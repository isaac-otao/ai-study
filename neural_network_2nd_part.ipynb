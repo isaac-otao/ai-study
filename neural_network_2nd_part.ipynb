{
 "cells": [
  {
   "cell_type": "markdown",
   "metadata": {},
   "source": [
    "[詳解 ディープラーニング ~TensorFlow・Kerasによる時系列データ処理~](https://www.amazon.co.jp/dp/4839962510) に沿って動かしてみます\n",
    "\n",
    "# 3章　ニューラルネットワーク（後半）\n",
    "\n",
    "## 3.5 多クラスロジスティック回帰"
   ]
  },
  {
   "cell_type": "code",
   "execution_count": 1,
   "metadata": {},
   "outputs": [
    {
     "data": {
      "text/plain": [
       "<matplotlib.text.Text at 0x1bc0712e588>"
      ]
     },
     "execution_count": 1,
     "metadata": {},
     "output_type": "execute_result"
    },
    {
     "data": {
      "image/png": "[encoded data removed]",
      "text/plain": [
       "<matplotlib.figure.Figure at 0x1bc01e60400>"
      ]
     },
     "metadata": {},
     "output_type": "display_data"
    }
   ],
   "source": [
    "%matplotlib inline\n",
    "import numpy as np\n",
    "import tensorflow as tf\n",
    "from sklearn.utils import shuffle\n",
    "import matplotlib.pyplot as plt\n",
    "\n",
    "np.random.seed(0)\n",
    "tf.set_random_seed(0)\n",
    "\n",
    "M = 2      # 入力データの次元\n",
    "K = 3      # クラス数\n",
    "n = 100    # クラスごとのデータ数\n",
    "N = n * K  # 全データ数\n",
    "\n",
    "#\n",
    "#データの生成\n",
    "#\n",
    "# クラス1: (0,10)付近\n",
    "C1X = np.random.randn(n, M) + np.array([0, 10])\n",
    "C1Y = np.array([[1, 0, 0] for i in range(n)])\n",
    "# クラス2: (5,5)付近\n",
    "C2X = np.random.randn(n, M) + np.array([5, 5])\n",
    "C2Y = np.array([[0, 1, 0] for i in range(n)])\n",
    "# クラス3: (10,0)付近\n",
    "C3X = np.random.randn(n, M) + np.array([10, 0])\n",
    "C3Y = np.array([[0, 0, 1] for i in range(n)])\n",
    "\n",
    "# 3クラス分のデータを結合して全体のデータを作成\n",
    "X = np.concatenate((C1X, C2X, C3X), axis=0)\n",
    "Y = np.concatenate((C1Y, C2Y, C3Y), axis=0)\n",
    "\n",
    "# データをプロット\n",
    "plt.plot(C1X[:,0],C1X[:,1],'o')\n",
    "plt.plot(C2X[:,0],C2X[:,1],'^')\n",
    "plt.plot(C3X[:,0],C3X[:,1],'x')\n",
    "plt.xlim(-4,14)\n",
    "plt.ylim(-4,14)\n",
    "plt.xlabel(\"x1\")\n",
    "plt.ylabel(\"x2\")\n"
   ]
  },
  {
   "cell_type": "code",
   "execution_count": 2,
   "metadata": {
    "collapsed": true
   },
   "outputs": [],
   "source": [
    "#\n",
    "# モデル設定\n",
    "#\n",
    "W = tf.Variable(tf.zeros([M, K]))\n",
    "b = tf.Variable(tf.zeros([K]))\n",
    "\n",
    "x = tf.placeholder(tf.float32, shape=[None, M])\n",
    "t = tf.placeholder(tf.float32, shape=[None, K])\n",
    "y = tf.nn.softmax(tf.matmul(x, W) + b)\n",
    "\n",
    "# tf.reduce_mean()でミニバッチ毎の平均値を算出\n",
    "# tf.reduce_sum()のreduction_indices=[1] …行方向の和\n",
    "cross_entropy = tf.reduce_mean(-tf.reduce_sum(t * tf.log(y),\n",
    "                               reduction_indices=[1]))\n",
    "train_step = tf.train.GradientDescentOptimizer(0.1).minimize(cross_entropy)\n",
    "\n",
    "# 分類が正しいか確認用\n",
    "correct_prediction = tf.equal(tf.argmax(y, 1), tf.argmax(t, 1))"
   ]
  },
  {
   "cell_type": "code",
   "execution_count": 3,
   "metadata": {},
   "outputs": [
    {
     "name": "stdout",
     "output_type": "stream",
     "text": [
      "epoc: 0\n",
      "   w: [[-0.38313058  0.09856445  0.28456619]\n",
      " [ 0.26327565  0.11545909 -0.37873474]]\n",
      "   b: [-0.01409902  0.02472855 -0.01062952]\n",
      "epoc: 1\n",
      "   w: [[-0.50611389  0.14210841  0.36400554]\n",
      " [ 0.3706499   0.13728492 -0.50793487]]\n",
      "   b: [-0.01814101  0.03526382 -0.01712281]\n",
      "epoc: 2\n",
      "   w: [[-0.59270465  0.15630458  0.43640009]\n",
      " [ 0.43390161  0.16014709 -0.59404874]]\n",
      "   b: [-0.02279811  0.04270132 -0.01990321]\n",
      "epoc: 3\n",
      "   w: [[-0.65814108  0.17078319  0.48735791]\n",
      " [ 0.48755571  0.17208369 -0.65963948]]\n",
      "   b: [-0.02607446  0.04875067 -0.02267621]\n",
      "epoc: 4\n",
      "   w: [[-0.71184295  0.19440928  0.5174337 ]\n",
      " [ 0.52925223  0.18669502 -0.71594739]]\n",
      "   b: [-0.02915178  0.05564693 -0.02649515]\n",
      "epoc: 5\n",
      "   w: [[-0.76220191  0.21493907  0.54726291]\n",
      " [ 0.55076629  0.21253556 -0.76330191]]\n",
      "   b: [-0.03374689  0.06311526 -0.02936836]\n",
      "epoc: 6\n",
      "   w: [[-0.79748619  0.2156909   0.58179533]\n",
      " [ 0.59411359  0.20664136 -0.80075508]]\n",
      "   b: [-0.03452959  0.06521688 -0.03068728]\n",
      "epoc: 7\n",
      "   w: [[-0.8353644   0.22393841  0.61142606]\n",
      " [ 0.61064172  0.22459646 -0.83523834]]\n",
      "   b: [-0.03816028  0.07037906 -0.03221877]\n",
      "epoc: 8\n",
      "   w: [[-0.86817074  0.23890752  0.62926334]\n",
      " [ 0.6293698   0.23871897 -0.86808896]]\n",
      "   b: [-0.04097372  0.07567167 -0.03469793]\n",
      "epoc: 9\n",
      "   w: [[-0.89741272  0.24548919  0.6519236 ]\n",
      " [ 0.64677578  0.24900781 -0.89578366]]\n",
      "   b: [-0.04348606  0.07958796 -0.03610189]\n",
      "epoc: 10\n",
      "   w: [[-0.92333126  0.25834861  0.66498268]\n",
      " [ 0.66673845  0.25649092 -0.9232294 ]]\n",
      "   b: [-0.04537372  0.08377983 -0.03840612]\n",
      "epoc: 11\n",
      "   w: [[-0.94806612  0.26671886  0.68134725]\n",
      " [ 0.68352062  0.26381165 -0.94733238]]\n",
      "   b: [-0.04739805  0.08740305 -0.04000501]\n",
      "epoc: 12\n",
      "   w: [[-0.9685837   0.26428518  0.70429862]\n",
      " [ 0.70483702  0.26228121 -0.9671185 ]]\n",
      "   b: [-0.04849162  0.08897273 -0.04048112]\n",
      "epoc: 13\n",
      "   w: [[-0.98992342  0.27083737  0.71908623]\n",
      " [ 0.71876097  0.26910201 -0.98786318]]\n",
      "   b: [-0.05037111  0.09223026 -0.04185916]\n",
      "epoc: 14\n",
      "   w: [[-1.0096302   0.28065079  0.72897977]\n",
      " [ 0.73350471  0.27486327 -1.00836825]]\n",
      "   b: [-0.05196473  0.09563223 -0.04366751]\n",
      "epoc: 15\n",
      "   w: [[-1.02714717  0.28635806  0.74078941]\n",
      " [ 0.75015306  0.27667198 -1.02682507]]\n",
      "   b: [-0.0531201   0.09818503 -0.04506495]\n",
      "epoc: 16\n",
      "   w: [[-1.04417539  0.29040879  0.75376701]\n",
      " [ 0.76523745  0.27869493 -1.04393244]]\n",
      "   b: [-0.05436973  0.10057303 -0.04620331]\n",
      "epoc: 17\n",
      "   w: [[-1.06158447  0.29402277  0.76756215]\n",
      " [ 0.77435577  0.28548092 -1.05983675]]\n",
      "   b: [-0.05619102  0.10330263 -0.04711162]\n",
      "epoc: 18\n",
      "   w: [[-1.07837021  0.29789397  0.78047669]\n",
      " [ 0.78232557  0.2927433  -1.07506883]]\n",
      "   b: [-0.05802097  0.10605375 -0.04803281]\n",
      "epoc: 19\n",
      "   w: [[-1.09312928  0.30058849  0.79254127]\n",
      " [ 0.79545879  0.2939766  -1.08943546]]\n",
      "   b: [-0.05914814  0.10808326 -0.04893514]\n",
      "**** train finish ****\n",
      "w: [[-1.09312928  0.30058849  0.79254127]\n",
      " [ 0.79545879  0.2939766  -1.08943546]]\n",
      "b: [-0.05914814  0.10808326 -0.04893514]\n"
     ]
    }
   ],
   "source": [
    "#\n",
    "# 学習実施\n",
    "#\n",
    "\n",
    "# 初期化\n",
    "init = tf.global_variables_initializer()\n",
    "sess = tf.Session()\n",
    "sess.run(init)\n",
    "\n",
    "# ミニバッチサイズ\n",
    "batch_size = 50  \n",
    "# ミニバッチでループさせる回数を切り捨て除算で算出\n",
    "n_batches = N // batch_size\n",
    "\n",
    "# ミニバッチ学習\n",
    "# epoch=データ全体に対する反復回数\n",
    "for epoch in range(20):\n",
    "    # 全体をシャッフル\n",
    "    X_, Y_ = shuffle(X, Y)\n",
    "    \n",
    "    # ミニバッチごとにループ\n",
    "    for i in range(n_batches):\n",
    "        start = i * batch_size\n",
    "        end = start + batch_size\n",
    "\n",
    "        sess.run(train_step, feed_dict={\n",
    "            x: X_[start:end],\n",
    "            t: Y_[start:end]\n",
    "        })\n",
    "    \n",
    "    print(\"epoc:\" ,epoch)\n",
    "    print(\"   w:\" ,sess.run(W))\n",
    "    print(\"   b:\" ,sess.run(b))\n",
    "\n",
    "print(\"**** train finish ****\")\n",
    "\n",
    "print(\"w:\" ,sess.run(W))\n",
    "print(\"b:\" ,sess.run(b))\n",
    "        \n",
    "        "
   ]
  },
  {
   "cell_type": "code",
   "execution_count": 4,
   "metadata": {},
   "outputs": [
    {
     "name": "stdout",
     "output_type": "stream",
     "text": [
      "[[ -1.03424284  10.68159452]\n",
      " [  5.52106488   4.42421203]\n",
      " [  0.95008842   9.84864279]\n",
      " [  4.40268393   4.76207827]\n",
      " [ 10.370825     0.14206181]\n",
      " [  4.63530646   5.15670386]\n",
      " [  8.86019754   0.78495752]\n",
      " [  8.0481959   -0.65989173]\n",
      " [ 10.86259601  -2.65561909]\n",
      " [ -0.4555325   10.01747916]]\n",
      "[[1 0 0]\n",
      " [0 1 0]\n",
      " [1 0 0]\n",
      " [0 1 0]\n",
      " [0 0 1]\n",
      " [0 1 0]\n",
      " [0 0 1]\n",
      " [0 0 1]\n",
      " [0 0 1]\n",
      " [1 0 0]]\n",
      "classified:\n",
      "[ True  True  True  True  True  True  True  True  True  True]\n",
      "\n",
      "output probability:\n",
      "[[  9.98682678e-01   1.31731527e-03   2.58784910e-10]\n",
      " [  3.43130948e-03   9.69049275e-01   2.75194254e-02]\n",
      " [  9.69157398e-01   3.08425445e-02   5.09097688e-08]\n",
      " [  1.93514787e-02   9.70684528e-01   9.96400509e-03]\n",
      " [  4.12158085e-09   8.59103166e-03   9.91409004e-01]\n",
      " [  1.71545204e-02   9.76335824e-01   6.50969939e-03]\n",
      " [  2.30860678e-07   4.24577259e-02   9.57542002e-01]\n",
      " [  7.25345686e-08   8.87839682e-03   9.91121531e-01]\n",
      " [  8.43027297e-12   1.41838231e-04   9.99858141e-01]\n",
      " [  9.95894194e-01   4.10580169e-03   2.68717937e-09]]\n"
     ]
    }
   ],
   "source": [
    "#\n",
    "# 学習結果の確認\n",
    "#\n",
    "\n",
    "# データ数が多いので、シャッフルしたうち10個で確認する\n",
    "X_, Y_ = shuffle(X, Y)\n",
    "test_X = X_[0:10]\n",
    "test_Y = Y_[0:10]\n",
    "\n",
    "print(test_X)\n",
    "print(test_Y)\n",
    "\n",
    "# シャッフルしたデータのうち10個で確認\n",
    "classified = correct_prediction.eval(session=sess, feed_dict={\n",
    "    x: test_X,\n",
    "    t: test_Y\n",
    "})\n",
    "# 各クラスの確率（Softmaxの結果ベクトル）\n",
    "prob = y.eval(session=sess, feed_dict={\n",
    "    x: test_X\n",
    "})\n",
    "\n",
    "print('classified:')\n",
    "print(classified)\n",
    "print()\n",
    "print('output probability:')\n",
    "print(prob)"
   ]
  },
  {
   "cell_type": "code",
   "execution_count": 5,
   "metadata": {},
   "outputs": [
    {
     "name": "stdout",
     "output_type": "stream",
     "text": [
      "-2.55298981583\n",
      "12.6962240526\n",
      "---train result---\n",
      "[[-1.09312928  0.30058849  0.79254127]\n",
      " [ 0.79545879  0.2939766  -1.08943546]]\n",
      "[-0.05914814  0.10808326 -0.04893514]\n",
      "---C1---\n",
      "-1.09313\n",
      "0.795459\n",
      "-0.0591481\n",
      "---C2---\n",
      "0.300588\n",
      "0.293977\n",
      "0.108083\n",
      "---C3---\n",
      "0.792541\n",
      "-1.08944\n",
      "-0.0489351\n"
     ]
    },
    {
     "data": {
      "text/plain": [
       "[<matplotlib.lines.Line2D at 0x1bc0756eb70>]"
      ]
     },
     "execution_count": 5,
     "metadata": {},
     "output_type": "execute_result"
    },
    {
     "data": {
      "image/png": "[encoded data removed]",
      "text/plain": [
       "<matplotlib.figure.Figure at 0x1bc0751e080>"
      ]
     },
     "metadata": {},
     "output_type": "display_data"
    }
   ],
   "source": [
    "# グラフ描画用　Xの範囲を抽出\n",
    "x1_min = X[:,0].min()\n",
    "x1_max = X[:,0].max()\n",
    "print(x1_min)\n",
    "print(x1_max)\n",
    "\n",
    "plt.plot(C1X[:,0],C1X[:,1],'o')\n",
    "plt.plot(C2X[:,0],C2X[:,1],'^')\n",
    "plt.plot(C3X[:,0],C3X[:,1],'x')\n",
    "plt.xlim(-4,14)\n",
    "plt.ylim(-4,14)\n",
    "plt.xlabel(\"x1\")\n",
    "plt.ylabel(\"x2\")\n",
    "\n",
    "\n",
    "# 学習結果をNdArrayに詰める\n",
    "result_w = sess.run(W)\n",
    "result_b = sess.run(b)\n",
    "print(\"---train result---\")\n",
    "print(result_w)\n",
    "print(result_b)\n",
    "\n",
    "\n",
    "# クラス1: (0,10)付近\n",
    "C1_w1 = result_w[0,0]\n",
    "C1_w2 = result_w[1,0]\n",
    "C1_b = result_b[0]\n",
    "print(\"---C1---\")\n",
    "print(C1_w1)\n",
    "print(C1_w2)\n",
    "print(C1_b)\n",
    "\n",
    "# クラス2: (5,5)付近\n",
    "C2_w1 = result_w[0,1]\n",
    "C2_w2 = result_w[1,1]\n",
    "C2_b = result_b[1]\n",
    "print(\"---C2---\")\n",
    "print(C2_w1)\n",
    "print(C2_w2)\n",
    "print(C2_b)\n",
    "\n",
    "# クラス3: (10,0)付近\n",
    "C3_w1 = result_w[0,2]\n",
    "C3_w2 = result_w[1,2]\n",
    "C3_b = result_b[2]\n",
    "print(\"---C3---\")\n",
    "print(C3_w1)\n",
    "print(C3_w2)\n",
    "print(C3_b)\n",
    "\n",
    "x1 = np.linspace(x1_min, x1_max, 5)\n",
    "# C1とC2の分類直線\n",
    "# C1_w1 * x1 + C1_w2 * x2 + C1_b = C2_w1 * x1 + C2_w2 * x2 + C2_b\n",
    "x2 = ((C2_w1 - C1_w1) * x1) / (C1_w2 - C2_w2)  + (C2_b - C1_b) / (C1_w2 - C2_w2)\n",
    "plt.plot(x1, x2, \"-\")\n",
    "\n",
    "# C3とC2の分類直線\n",
    "# C3_w1 * x1 + C3_w2 * x2 + C3_b = C2_w1 * x1 + C2_w2 * x2 + C2_b\n",
    "x2 = ((C2_w1 - C3_w1) * x1) / (C3_w2 - C2_w2)  + (C2_b - C3_b) / (C3_w2 - C2_w2)\n",
    "plt.plot(x1, x2, \"-\")\n"
   ]
  },
  {
   "cell_type": "markdown",
   "metadata": {},
   "source": [
    "## 3.6 多層パーセプトロン"
   ]
  },
  {
   "cell_type": "code",
   "execution_count": 6,
   "metadata": {},
   "outputs": [
    {
     "data": {
      "text/plain": [
       "<matplotlib.text.Text at 0x1bc07583a58>"
      ]
     },
     "execution_count": 6,
     "metadata": {},
     "output_type": "execute_result"
    },
    {
     "data": {
      "image/png": "[encoded data removed]",
      "text/plain": [
       "<matplotlib.figure.Figure at 0x1bc07142710>"
      ]
     },
     "metadata": {},
     "output_type": "display_data"
    }
   ],
   "source": [
    "%matplotlib inline\n",
    "import numpy as np\n",
    "import tensorflow as tf\n",
    "from sklearn.utils import shuffle\n",
    "import matplotlib.pyplot as plt\n",
    "\n",
    "\n",
    "tf.set_random_seed(0)\n",
    "\n",
    "#\n",
    "# データの生成 (XOR)\n",
    "#\n",
    "X = np.array([[0, 0], [0, 1], [1, 0], [1, 1]])\n",
    "Y = np.array([[0],    [1],    [1],    [0]])\n",
    "\n",
    "\n",
    "plt.plot([0, 1],[0, 1],'x')\n",
    "plt.plot([0, 1],[1, 0],'o')\n",
    "plt.xlim(-1,2)\n",
    "plt.ylim(-1,2)\n",
    "plt.xlabel(\"x1\")\n",
    "plt.ylabel(\"x2\")"
   ]
  },
  {
   "cell_type": "code",
   "execution_count": 7,
   "metadata": {},
   "outputs": [
    {
     "name": "stdout",
     "output_type": "stream",
     "text": [
      "epoch: 0\n",
      "epoch: 1000\n",
      "epoch: 2000\n",
      "epoch: 3000\n",
      "W: [[-5.19005585 -6.88390779]\n",
      " [-5.19027519 -6.8854332 ]]\n",
      "b: [ 7.72547293  2.87054968]\n",
      "V: [[ 10.97393703]\n",
      " [-11.4028511 ]]\n",
      "c: [-5.12437439]\n"
     ]
    }
   ],
   "source": [
    "#\n",
    "# モデル設定\n",
    "#\n",
    "x = tf.placeholder(tf.float32, shape=[None, 2])\n",
    "t = tf.placeholder(tf.float32, shape=[None, 1])\n",
    "\n",
    "# 入力層 - 隠れ層\n",
    "W = tf.Variable(tf.truncated_normal([2, 2]))\n",
    "b = tf.Variable(tf.zeros([2]))\n",
    "h = tf.nn.sigmoid(tf.matmul(x, W) + b)\n",
    "\n",
    "# 隠れ層 - 出力層\n",
    "V = tf.Variable(tf.truncated_normal([2, 1]))\n",
    "c = tf.Variable(tf.zeros([1]))\n",
    "y = tf.nn.sigmoid(tf.matmul(h, V) + c)\n",
    "\n",
    "cross_entropy = - tf.reduce_sum(t * tf.log(y) + (1 - t) * tf.log(1 - y))\n",
    "train_step = tf.train.GradientDescentOptimizer(0.1).minimize(cross_entropy)\n",
    "\n",
    "# 正しく分類できているか確認用 \n",
    "correct_prediction = tf.equal(tf.to_float(tf.greater(y, 0.5)), t)\n",
    "\n",
    "#\n",
    "# モデル学習\n",
    "#\n",
    "init = tf.global_variables_initializer()\n",
    "sess = tf.Session()\n",
    "sess.run(init)\n",
    "\n",
    "for epoch in range(4000):\n",
    "    sess.run(train_step, feed_dict={\n",
    "        x: X,\n",
    "        t: Y\n",
    "    })\n",
    "    if epoch % 1000 == 0:\n",
    "        print('epoch:', epoch)\n",
    "\n",
    "print(\"W:\" ,sess.run(W))\n",
    "print(\"b:\" ,sess.run(b))\n",
    "print(\"V:\"  ,sess.run(V))\n",
    "print(\"c:\"  ,sess.run(c))\n"
   ]
  },
  {
   "cell_type": "code",
   "execution_count": 8,
   "metadata": {},
   "outputs": [
    {
     "name": "stdout",
     "output_type": "stream",
     "text": [
      "classified:\n",
      "[[ True]\n",
      " [ True]\n",
      " [ True]\n",
      " [ True]]\n",
      "\n",
      "output probability:\n",
      "[[ 0.00705731]\n",
      " [ 0.99216789]\n",
      " [ 0.99216688]\n",
      " [ 0.01208413]]\n"
     ]
    }
   ],
   "source": [
    "#\n",
    "# 学習結果の確認\n",
    "#\n",
    "classified = correct_prediction.eval(session=sess, feed_dict={\n",
    "    x: X,\n",
    "    t: Y\n",
    "})\n",
    "prob = y.eval(session=sess, feed_dict={\n",
    "    x: X\n",
    "})\n",
    "\n",
    "print('classified:')\n",
    "print(classified)\n",
    "print()\n",
    "print('output probability:')\n",
    "print(prob)"
   ]
  },
  {
   "cell_type": "code",
   "execution_count": 9,
   "metadata": {},
   "outputs": [
    {
     "name": "stdout",
     "output_type": "stream",
     "text": [
      "W\n",
      "[[-5.19005585 -6.88390779]\n",
      " [-5.19027519 -6.8854332 ]]\n",
      "b\n",
      "[ 7.72547293  2.87054968]\n"
     ]
    },
    {
     "data": {
      "text/plain": [
       "[<matplotlib.lines.Line2D at 0x1bc07789668>]"
      ]
     },
     "execution_count": 9,
     "metadata": {},
     "output_type": "execute_result"
    },
    {
     "data": {
      "image/png": "[encoded data removed]",
      "text/plain": [
       "<matplotlib.figure.Figure at 0x1bc0751b780>"
      ]
     },
     "metadata": {},
     "output_type": "display_data"
    }
   ],
   "source": [
    "#\n",
    "# 学習結果から境界線をひいてみる\n",
    "#\n",
    "plt.plot([0, 1],[0, 1],'x')\n",
    "plt.plot([0, 1],[1, 0],'o')\n",
    "plt.xlim(-1,2)\n",
    "plt.ylim(-1,2)\n",
    "plt.xlabel(\"x1\")\n",
    "plt.ylabel(\"x2\")\n",
    "\n",
    "result_w = sess.run(W)\n",
    "result_b = sess.run(b)\n",
    "result_v = sess.run(V)\n",
    "result_c = sess.run(c)\n",
    "print(\"W\")\n",
    "print(result_w)\n",
    "print(\"b\")\n",
    "print(result_b)\n",
    "\n",
    "\n",
    "x1 = np.linspace(-1,2,4)\n",
    "x2 = -(result_w[0][0] * x1 )/ result_w[1][0] - (result_b[0] / result_w[1][0])\n",
    "plt.plot(x1, x2, \"-\")\n",
    "x2 = -(result_w[0][1] * x1 )/ result_w[1][1] - (result_b[1] / result_w[1][1])\n",
    "plt.plot(x1, x2, \"-\")\n",
    "#x2 = -(result_w[0][2] * x1 )/ result_w[1][2] - (result_b[2] / result_w[1][2])\n",
    "#plt.plot(x1, x2, \"-\")"
   ]
  },
  {
   "cell_type": "markdown",
   "metadata": {
    "collapsed": true
   },
   "source": [
    "## 3.7　モデルの評価"
   ]
  },
  {
   "cell_type": "code",
   "execution_count": 10,
   "metadata": {},
   "outputs": [
    {
     "name": "stdout",
     "output_type": "stream",
     "text": [
      "[[ 0.99707159 -0.76407206]\n",
      " [-0.04007768 -0.34954567]\n",
      " [ 0.81875257  0.82918292]\n",
      " [ 1.2110974  -0.47101295]\n",
      " [ 0.93335442 -0.20031996]]\n",
      "[1 1 0 1 1]\n"
     ]
    }
   ],
   "source": [
    "%matplotlib inline\n",
    "import numpy as np\n",
    "import tensorflow as tf\n",
    "import matplotlib.pyplot as plt\n",
    "from sklearn import datasets\n",
    "from sklearn.model_selection import train_test_split\n",
    "from sklearn.utils import shuffle\n",
    "\n",
    "np.random.seed(0)\n",
    "tf.set_random_seed(1234)\n",
    "\n",
    "#\n",
    "# データ作成\n",
    "#\n",
    "\n",
    "# P135. 月形のデータ（scikit-learnで提供されているサンプルデータセット）\n",
    "N=300\n",
    "X, y = datasets.make_moons(N, noise=0.3)\n",
    "# Tensorflowではデータ数＝行数なのでreshapeする\n",
    "Y = y.reshape(N, 1)\n",
    "# 学習用データと検証用データを8:2に分割\n",
    "X_train, X_test, Y_train, Y_test = train_test_split(X, Y, train_size=0.8)\n",
    "\n",
    "print(X[0:5])\n",
    "print(y[0:5])"
   ]
  },
  {
   "cell_type": "code",
   "execution_count": 11,
   "metadata": {},
   "outputs": [
    {
     "data": {
      "text/plain": [
       "<matplotlib.text.Text at 0x1bc079f58d0>"
      ]
     },
     "execution_count": 11,
     "metadata": {},
     "output_type": "execute_result"
    },
    {
     "data": {
      "image/png": "[encoded data removed]",
      "text/plain": [
       "<matplotlib.figure.Figure at 0x1bc079c9fd0>"
      ]
     },
     "metadata": {},
     "output_type": "display_data"
    }
   ],
   "source": [
    "# y=0 -> class0, y=1 -> class1 に分けてプロットする\n",
    "\n",
    "# y= 0\n",
    "c0x1 = [] \n",
    "c0x2 = []\n",
    "c0y = []\n",
    "# y=1\n",
    "c1x1 = []\n",
    "c1x2 = []\n",
    "c1y = []\n",
    "\n",
    "for (i, tmpy) in enumerate(y):\n",
    "    if tmpy == 0:\n",
    "        c0x1.append(X[i][0])\n",
    "        c0x2.append(X[i][1])\n",
    "        c0y.append(tmpy)\n",
    "    else:\n",
    "        c1x1.append(X[i][0])\n",
    "        c1x2.append(X[i][1])\n",
    "        c1y.append(tmpy)\n",
    "\n",
    "plt.plot(c0x1,c0x2,'x')\n",
    "plt.plot(c1x1,c1x2,'o')\n",
    "plt.xlim(-2,3)\n",
    "plt.ylim(-1.5,2)\n",
    "plt.xlabel(\"x1\")\n",
    "plt.ylabel(\"x2\")\n"
   ]
  },
  {
   "cell_type": "code",
   "execution_count": 12,
   "metadata": {
    "collapsed": true
   },
   "outputs": [],
   "source": [
    "#\n",
    "# モデル定義\n",
    "#\n",
    "\n",
    "# 隠れ層の次元数\n",
    "#num_hidden = 3\n",
    "num_hidden = 2\n",
    "\n",
    "x = tf.placeholder(tf.float32, shape=[None, 2])\n",
    "t = tf.placeholder(tf.float32, shape=[None, 1])\n",
    "\n",
    "# 入力層 - 隠れ層\n",
    "W = tf.Variable(tf.truncated_normal([2, num_hidden]))\n",
    "b = tf.Variable(tf.zeros([num_hidden]))\n",
    "h = tf.nn.sigmoid(tf.matmul(x, W) + b)\n",
    "\n",
    "# 隠れ層 - 出力層\n",
    "V = tf.Variable(tf.truncated_normal([num_hidden, 1]))\n",
    "c = tf.Variable(tf.zeros([1]))\n",
    "y = tf.nn.sigmoid(tf.matmul(h, V) + c)\n",
    "\n",
    "cross_entropy = - tf.reduce_sum(t * tf.log(y) + (1 - t) * tf.log(1 - y))\n",
    "train_step = tf.train.GradientDescentOptimizer(0.05).minimize(cross_entropy)\n",
    "\n",
    "\n",
    "# 正解確認用\n",
    "correct_prediction = tf.equal(tf.to_float(tf.greater(y, 0.5)), t)\n",
    "# 正解率=accuracy計算用\n",
    "accuracy = tf.reduce_mean(tf.cast(correct_prediction, tf.float32))\n",
    "\n"
   ]
  },
  {
   "cell_type": "code",
   "execution_count": 13,
   "metadata": {},
   "outputs": [
    {
     "name": "stdout",
     "output_type": "stream",
     "text": [
      "epoch: 0\n",
      "epoch: 100\n",
      "epoch: 200\n",
      "epoch: 300\n",
      "epoch: 400\n"
     ]
    }
   ],
   "source": [
    "#\n",
    "# 学習実施\n",
    "#\n",
    "\n",
    "# ミニバッチのデータサイズ\n",
    "batch_size = 20\n",
    "n_batches = N // batch_size\n",
    "\n",
    "init = tf.global_variables_initializer()\n",
    "sess = tf.Session()\n",
    "sess.run(init)\n",
    "\n",
    "# 学習用のデータ（X_train, Y_train）を使う\n",
    "for epoch in range(500):\n",
    "    X_, Y_ = shuffle(X_train, Y_train)\n",
    "\n",
    "    for i in range(n_batches):\n",
    "        start = i * batch_size\n",
    "        end = start + batch_size\n",
    "\n",
    "        sess.run(train_step, feed_dict={\n",
    "            x: X_[start:end],\n",
    "            t: Y_[start:end]\n",
    "        })\n",
    "    if epoch % 100 == 0:\n",
    "        print('epoch:', epoch)\n"
   ]
  },
  {
   "cell_type": "code",
   "execution_count": 14,
   "metadata": {},
   "outputs": [
    {
     "name": "stdout",
     "output_type": "stream",
     "text": [
      "accuracy:  0.883333\n"
     ]
    }
   ],
   "source": [
    "#\n",
    "# 検証用のデータで予測精度の評価を実施\n",
    "#\n",
    "\n",
    "accuracy_rate = accuracy.eval(session=sess, feed_dict={\n",
    "    x: X_test,\n",
    "    t: Y_test\n",
    "})\n",
    "print('accuracy: ', accuracy_rate)"
   ]
  },
  {
   "cell_type": "code",
   "execution_count": 15,
   "metadata": {},
   "outputs": [
    {
     "name": "stdout",
     "output_type": "stream",
     "text": [
      "W\n",
      "[[-10.22826004   0.10896086]\n",
      " [  2.5584085   -2.59649229]]\n",
      "b\n",
      "[-6.83141661  1.27981746]\n"
     ]
    },
    {
     "data": {
      "image/png": "[encoded data removed]",
      "text/plain": [
       "<matplotlib.figure.Figure at 0x1bc08b5be48>"
      ]
     },
     "metadata": {},
     "output_type": "display_data"
    }
   ],
   "source": [
    "#\n",
    "# 学習結果から境界線をひく\n",
    "#\n",
    "plt.plot(c0x1,c0x2,'x')\n",
    "plt.plot(c1x1,c1x2,'o')\n",
    "plt.xlim(-2,3)\n",
    "plt.ylim(-1.5,2)\n",
    "plt.xlabel(\"x1\")\n",
    "plt.ylabel(\"x2\")\n",
    "\n",
    "result_w = sess.run(W)\n",
    "result_b = sess.run(b)\n",
    "print(\"W\")\n",
    "print(result_w)\n",
    "print(\"b\")\n",
    "print(result_b)\n",
    "\n",
    "\n",
    "x1 = np.linspace(-2,3,10)\n",
    "x2 = -(result_w[0][0] * x1 )/ result_w[1][0] - (result_b[0] / result_w[1][0])\n",
    "plt.plot(x1, x2, \"-\")\n",
    "x2 = -(result_w[0][1] * x1 )/ result_w[1][1] - (result_b[1] / result_w[1][1])\n",
    "plt.plot(x1, x2, \"-\")\n",
    "# num_hidden=3の場合\n",
    "if num_hidden == 3:\n",
    "    x2 = -(result_w[0][2] * x1 )/ result_w[1][2] - (result_b[2] / result_w[1][2])\n",
    "    plt.plot(x1, x2, \"-\")"
   ]
  },
  {
   "cell_type": "code",
   "execution_count": 16,
   "metadata": {},
   "outputs": [
    {
     "name": "stdout",
     "output_type": "stream",
     "text": [
      "Data Num: 240\n"
     ]
    },
    {
     "data": {
      "image/png": "[encoded data removed]",
      "text/plain": [
       "<matplotlib.figure.Figure at 0x1bc08bf0cc0>"
      ]
     },
     "metadata": {},
     "output_type": "display_data"
    }
   ],
   "source": [
    "#\n",
    "# 学習用データをプロットしてみる\n",
    "#\n",
    "# y=0\n",
    "c0x1_train = [] \n",
    "c0x2_train = []\n",
    "c0y_train = []\n",
    "# y=1\n",
    "c1x1_train = []\n",
    "c1x2_train = []\n",
    "c1y_train = []\n",
    "\n",
    "print(\"Data Num:\", Y_train.size)\n",
    "\n",
    "for (i, tmpy) in enumerate(Y_train):\n",
    "    if tmpy == 0:\n",
    "        c0x1_train.append(X_train[i][0])\n",
    "        c0x2_train.append(X_train[i][1])\n",
    "        c0y_train.append(tmpy)\n",
    "    else:\n",
    "        c1x1_train.append(X_train[i][0])\n",
    "        c1x2_train.append(X_train[i][1])\n",
    "        c1y_train.append(tmpy)\n",
    "\n",
    "plt.plot(c0x1_train,c0x2_train,'x')\n",
    "plt.plot(c1x1_train,c1x2_train,'o')\n",
    "plt.xlim(-2,3)\n",
    "plt.ylim(-1.5,2)\n",
    "plt.xlabel(\"x1\")\n",
    "plt.ylabel(\"x2\")\n",
    "x1 = np.linspace(-2,3,10)\n",
    "x2 = -(result_w[0][0] * x1 )/ result_w[1][0] - (result_b[0] / result_w[1][0])\n",
    "plt.plot(x1, x2, \"-\")\n",
    "x2 = -(result_w[0][1] * x1 )/ result_w[1][1] - (result_b[1] / result_w[1][1])\n",
    "plt.plot(x1, x2, \"-\")\n",
    "# num_hidden=3の場合\n",
    "if num_hidden == 3:\n",
    "    x2 = -(result_w[0][2] * x1 )/ result_w[1][2] - (result_b[2] / result_w[1][2])\n",
    "    plt.plot(x1, x2, \"-\")"
   ]
  },
  {
   "cell_type": "code",
   "execution_count": 17,
   "metadata": {},
   "outputs": [
    {
     "name": "stdout",
     "output_type": "stream",
     "text": [
      "Data Num: 60\n"
     ]
    },
    {
     "data": {
      "image/png": "[encoded data removed]",
      "text/plain": [
       "<matplotlib.figure.Figure at 0x1bc08c4c748>"
      ]
     },
     "metadata": {},
     "output_type": "display_data"
    }
   ],
   "source": [
    "# 検証用データをプロットしてみる\n",
    "# y=0\n",
    "c0x1_test = [] \n",
    "c0x2_test = []\n",
    "c0y_test = []\n",
    "# y=1\n",
    "c1x1_test = []\n",
    "c1x2_test = []\n",
    "c1y_test = []\n",
    "\n",
    "print(\"Data Num:\", Y_test.size)\n",
    "\n",
    "for (i, tmpy) in enumerate(Y_test):\n",
    "    if tmpy == 0:\n",
    "        c0x1_test.append(X_test[i][0])\n",
    "        c0x2_test.append(X_test[i][1])\n",
    "        c0y_test.append(tmpy)\n",
    "    else:\n",
    "        c1x1_test.append(X_test[i][0])\n",
    "        c1x2_test.append(X_test[i][1])\n",
    "        c1y_test.append(tmpy)\n",
    "\n",
    "plt.plot(c0x1_test,c0x2_test,'x')\n",
    "plt.plot(c1x1_test,c1x2_test,'o')\n",
    "plt.xlim(-2,3)\n",
    "plt.ylim(-1.5,2)\n",
    "plt.xlabel(\"x1\")\n",
    "plt.ylabel(\"x2\")\n",
    "x1 = np.linspace(-2,3,10)\n",
    "x2 = -(result_w[0][0] * x1 )/ result_w[1][0] - (result_b[0] / result_w[1][0])\n",
    "plt.plot(x1, x2, \"-\")\n",
    "x2 = -(result_w[0][1] * x1 )/ result_w[1][1] - (result_b[1] / result_w[1][1])\n",
    "plt.plot(x1, x2, \"-\")\n",
    "# num_hidden=3の場合\n",
    "if num_hidden == 3:\n",
    "    x2 = -(result_w[0][2] * x1 )/ result_w[1][2] - (result_b[2] / result_w[1][2])\n",
    "    plt.plot(x1, x2, \"-\")"
   ]
  }
 ],
 "metadata": {
  "kernelspec": {
   "display_name": "Python 3",
   "language": "python",
   "name": "python3"
  },
  "language_info": {
   "codemirror_mode": {
    "name": "ipython",
    "version": 3
   },
   "file_extension": ".py",
   "mimetype": "text/x-python",
   "name": "python",
   "nbconvert_exporter": "python",
   "pygments_lexer": "ipython3",
   "version": "3.5.3"
  }
 },
 "nbformat": 4,
 "nbformat_minor": 2
}
