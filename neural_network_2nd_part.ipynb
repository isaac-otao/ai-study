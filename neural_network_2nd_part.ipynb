{
 "cells": [
  {
   "cell_type": "markdown",
   "metadata": {},
   "source": [
    "[詳解 ディープラーニング ~TensorFlow・Kerasによる時系列データ処理~](https://www.amazon.co.jp/dp/4839962510) に沿って動かしてみます\n",
    "\n",
    "# 3章　ニューラルネットワーク（後半）\n",
    "\n",
    "## 3.5 多クラスロジスティック回帰"
   ]
  },
  {
   "cell_type": "code",
   "execution_count": 1,
   "metadata": {},
   "outputs": [
    {
     "data": {
      "text/plain": [
       "<matplotlib.text.Text at 0x1ee92efd0b8>"
      ]
     },
     "execution_count": 1,
     "metadata": {},
     "output_type": "execute_result"
    },
    {
     "data": {
      "image/png": "[encoded data removed]",
      "text/plain": [
       "<matplotlib.figure.Figure at 0x1ee8e6be518>"
      ]
     },
     "metadata": {},
     "output_type": "display_data"
    }
   ],
   "source": [
    "%matplotlib inline\n",
    "import numpy as np\n",
    "import tensorflow as tf\n",
    "from sklearn.utils import shuffle\n",
    "import matplotlib.pyplot as plt\n",
    "\n",
    "np.random.seed(0)\n",
    "tf.set_random_seed(0)\n",
    "\n",
    "M = 2      # 入力データの次元\n",
    "K = 3      # クラス数\n",
    "n = 100    # クラスごとのデータ数\n",
    "N = n * K  # 全データ数\n",
    "\n",
    "'''\n",
    "データの生成\n",
    "'''\n",
    "X1 = np.random.randn(n, M) + np.array([0, 10])\n",
    "X2 = np.random.randn(n, M) + np.array([5, 5])\n",
    "X3 = np.random.randn(n, M) + np.array([10, 0])\n",
    "Y1 = np.array([[1, 0, 0] for i in range(n)])\n",
    "Y2 = np.array([[0, 1, 0] for i in range(n)])\n",
    "Y3 = np.array([[0, 0, 1] for i in range(n)])\n",
    "\n",
    "X = np.concatenate((X1, X2, X3), axis=0)\n",
    "Y = np.concatenate((Y1, Y2, Y3), axis=0)\n",
    "\n",
    "plt.plot(X1[:,0],X1[:,1],'o')\n",
    "plt.plot(X2[:,0],X2[:,1],'^')\n",
    "plt.plot(X3[:,0],X3[:,1],'x')\n",
    "plt.xlabel(\"x1\")\n",
    "plt.ylabel(\"x2\")"
   ]
  },
  {
   "cell_type": "code",
   "execution_count": 2,
   "metadata": {
    "collapsed": true
   },
   "outputs": [],
   "source": [
    "'''\n",
    "モデル設定\n",
    "'''\n",
    "W = tf.Variable(tf.zeros([M, K]))\n",
    "b = tf.Variable(tf.zeros([K]))\n",
    "\n",
    "x = tf.placeholder(tf.float32, shape=[None, M])\n",
    "t = tf.placeholder(tf.float32, shape=[None, K])\n",
    "y = tf.nn.softmax(tf.matmul(x, W) + b)\n",
    "\n",
    "cross_entropy = tf.reduce_mean(-tf.reduce_sum(t * tf.log(y),\n",
    "                               reduction_indices=[1]))\n",
    "train_step = tf.train.GradientDescentOptimizer(0.1).minimize(cross_entropy)\n",
    "\n",
    "correct_prediction = tf.equal(tf.argmax(y, 1), tf.argmax(t, 1))"
   ]
  },
  {
   "cell_type": "code",
   "execution_count": 3,
   "metadata": {},
   "outputs": [
    {
     "name": "stdout",
     "output_type": "stream",
     "text": [
      "epoc: 0\n",
      "   w: [[-0.38313058  0.09856445  0.28456619]\n",
      " [ 0.26327565  0.11545909 -0.37873474]]\n",
      "   b: [-0.01409902  0.02472855 -0.01062952]\n",
      "epoc: 1\n",
      "   w: [[-0.50611389  0.14210841  0.36400554]\n",
      " [ 0.3706499   0.13728492 -0.50793487]]\n",
      "   b: [-0.01814101  0.03526382 -0.01712281]\n",
      "epoc: 2\n",
      "   w: [[-0.59270465  0.15630458  0.43640009]\n",
      " [ 0.43390161  0.16014709 -0.59404874]]\n",
      "   b: [-0.02279811  0.04270132 -0.01990321]\n",
      "epoc: 3\n",
      "   w: [[-0.65814108  0.17078319  0.48735791]\n",
      " [ 0.48755571  0.17208369 -0.65963948]]\n",
      "   b: [-0.02607446  0.04875067 -0.02267621]\n",
      "epoc: 4\n",
      "   w: [[-0.71184295  0.19440928  0.5174337 ]\n",
      " [ 0.52925223  0.18669502 -0.71594739]]\n",
      "   b: [-0.02915178  0.05564693 -0.02649515]\n",
      "epoc: 5\n",
      "   w: [[-0.76220191  0.21493907  0.54726291]\n",
      " [ 0.55076629  0.21253556 -0.76330191]]\n",
      "   b: [-0.03374689  0.06311526 -0.02936836]\n",
      "epoc: 6\n",
      "   w: [[-0.79748619  0.2156909   0.58179533]\n",
      " [ 0.59411359  0.20664136 -0.80075508]]\n",
      "   b: [-0.03452959  0.06521688 -0.03068728]\n",
      "epoc: 7\n",
      "   w: [[-0.8353644   0.22393841  0.61142606]\n",
      " [ 0.61064172  0.22459646 -0.83523834]]\n",
      "   b: [-0.03816028  0.07037906 -0.03221877]\n",
      "epoc: 8\n",
      "   w: [[-0.86817074  0.23890752  0.62926334]\n",
      " [ 0.6293698   0.23871897 -0.86808896]]\n",
      "   b: [-0.04097372  0.07567167 -0.03469793]\n",
      "epoc: 9\n",
      "   w: [[-0.89741272  0.24548919  0.6519236 ]\n",
      " [ 0.64677578  0.24900781 -0.89578366]]\n",
      "   b: [-0.04348606  0.07958796 -0.03610189]\n",
      "epoc: 10\n",
      "   w: [[-0.92333126  0.25834861  0.66498268]\n",
      " [ 0.66673845  0.25649092 -0.9232294 ]]\n",
      "   b: [-0.04537372  0.08377983 -0.03840612]\n",
      "epoc: 11\n",
      "   w: [[-0.94806612  0.26671886  0.68134725]\n",
      " [ 0.68352062  0.26381165 -0.94733238]]\n",
      "   b: [-0.04739805  0.08740305 -0.04000501]\n",
      "epoc: 12\n",
      "   w: [[-0.9685837   0.26428518  0.70429862]\n",
      " [ 0.70483702  0.26228121 -0.9671185 ]]\n",
      "   b: [-0.04849162  0.08897273 -0.04048112]\n",
      "epoc: 13\n",
      "   w: [[-0.98992342  0.27083737  0.71908623]\n",
      " [ 0.71876097  0.26910201 -0.98786318]]\n",
      "   b: [-0.05037111  0.09223026 -0.04185916]\n",
      "epoc: 14\n",
      "   w: [[-1.0096302   0.28065079  0.72897977]\n",
      " [ 0.73350471  0.27486327 -1.00836825]]\n",
      "   b: [-0.05196473  0.09563223 -0.04366751]\n",
      "epoc: 15\n",
      "   w: [[-1.02714717  0.28635806  0.74078941]\n",
      " [ 0.75015306  0.27667198 -1.02682507]]\n",
      "   b: [-0.0531201   0.09818503 -0.04506495]\n",
      "epoc: 16\n",
      "   w: [[-1.04417539  0.29040879  0.75376701]\n",
      " [ 0.76523745  0.27869493 -1.04393244]]\n",
      "   b: [-0.05436973  0.10057303 -0.04620331]\n",
      "epoc: 17\n",
      "   w: [[-1.06158447  0.29402277  0.76756215]\n",
      " [ 0.77435577  0.28548092 -1.05983675]]\n",
      "   b: [-0.05619102  0.10330263 -0.04711162]\n",
      "epoc: 18\n",
      "   w: [[-1.07837021  0.29789397  0.78047669]\n",
      " [ 0.78232557  0.2927433  -1.07506883]]\n",
      "   b: [-0.05802097  0.10605375 -0.04803281]\n",
      "epoc: 19\n",
      "   w: [[-1.09312928  0.30058849  0.79254127]\n",
      " [ 0.79545879  0.2939766  -1.08943546]]\n",
      "   b: [-0.05914814  0.10808326 -0.04893514]\n",
      "**** train finish ****\n",
      "w: [[-1.09312928  0.30058849  0.79254127]\n",
      " [ 0.79545879  0.2939766  -1.08943546]]\n",
      "b: [-0.05914814  0.10808326 -0.04893514]\n"
     ]
    }
   ],
   "source": [
    "'''\n",
    "モデル学習\n",
    "'''\n",
    "# 初期化\n",
    "init = tf.global_variables_initializer()\n",
    "sess = tf.Session()\n",
    "sess.run(init)\n",
    "\n",
    "batch_size = 50  # ミニバッチサイズ\n",
    "n_batches = N // batch_size\n",
    "\n",
    "# ミニバッチ学習\n",
    "for epoch in range(20):\n",
    "    X_, Y_ = shuffle(X, Y)\n",
    "\n",
    "    for i in range(n_batches):\n",
    "        start = i * batch_size\n",
    "        end = start + batch_size\n",
    "\n",
    "        sess.run(train_step, feed_dict={\n",
    "            x: X_[start:end],\n",
    "            t: Y_[start:end]\n",
    "        })\n",
    "    \n",
    "    print(\"epoc:\" ,epoch)\n",
    "    print(\"   w:\" ,sess.run(W))\n",
    "    print(\"   b:\" ,sess.run(b))\n",
    "\n",
    "print(\"**** train finish ****\")\n",
    "\n",
    "print(\"w:\" ,sess.run(W))\n",
    "print(\"b:\" ,sess.run(b))\n",
    "        \n",
    "        "
   ]
  },
  {
   "cell_type": "code",
   "execution_count": 4,
   "metadata": {},
   "outputs": [
    {
     "name": "stdout",
     "output_type": "stream",
     "text": [
      "-2.55298981583\n",
      "12.6962240526\n",
      "---X1---\n",
      "-1.09313\n",
      "0.795459\n",
      "-0.0591481\n",
      "---X2---\n",
      "0.300588\n",
      "0.293977\n",
      "0.108083\n",
      "---X3---\n",
      "0.792541\n",
      "-1.08944\n",
      "-0.0489351\n"
     ]
    },
    {
     "data": {
      "text/plain": [
       "[<matplotlib.lines.Line2D at 0x1ee931172e8>]"
      ]
     },
     "execution_count": 4,
     "metadata": {},
     "output_type": "execute_result"
    },
    {
     "data": {
      "image/png": "[encoded data removed]",
      "text/plain": [
       "<matplotlib.figure.Figure at 0x1ee930d2c18>"
      ]
     },
     "metadata": {},
     "output_type": "display_data"
    }
   ],
   "source": [
    "# グラフ描画用　Xの範囲を抽出\n",
    "x1_min = X[:,0].min()\n",
    "x1_max = X[:,0].max()\n",
    "print(x1_min)\n",
    "print(x1_max)\n",
    "\n",
    "plt.plot(X1[:,0],X1[:,1],'o')\n",
    "plt.plot(X2[:,0],X2[:,1],'^')\n",
    "plt.plot(X3[:,0],X3[:,1],'x')\n",
    "plt.xlabel(\"x1\")\n",
    "plt.ylabel(\"x2\")\n",
    "#plt.ylim(-10,40)\n",
    "\n",
    "# 学習結果をNdArrayに詰める\n",
    "result_w = sess.run(W)\n",
    "result_b = sess.run(b)\n",
    "\n",
    "# X1(0,10付近のグループ)\n",
    "X1_w1 = result_w[0,0]\n",
    "X1_w2 = result_w[1,0]\n",
    "X1_b = result_b[0]\n",
    "print(\"---X1---\")\n",
    "print(X1_w1)\n",
    "print(X1_w2)\n",
    "print(X1_b)\n",
    "\n",
    "\n",
    "# X2(5,5付近のグループ)\n",
    "X2_w1 = result_w[0,1]\n",
    "X2_w2 = result_w[1,1]\n",
    "X2_b = result_b[1]\n",
    "print(\"---X2---\")\n",
    "print(X2_w1)\n",
    "print(X2_w2)\n",
    "print(X2_b)\n",
    "\n",
    "# X3(10,0付近のグループ)\n",
    "X3_w1 = result_w[0,2]\n",
    "X3_w2 = result_w[1,2]\n",
    "X3_b = result_b[2]\n",
    "print(\"---X3---\")\n",
    "print(X3_w1)\n",
    "print(X3_w2)\n",
    "print(X3_b)\n",
    "\n",
    "# X1とX2の分類直線\n",
    "x1 = np.linspace(x1_min, x1_max, 5)\n",
    "# X1_w1 * x1 + X1_w2 * x2 + X1_b = X2_w1 * x1 + X2_w2 * x2 + X2_b\n",
    "x2a = ((X2_w1 - X1_w1) * x1) / (X1_w2 - X2_w2)  + (X2_b - X1_b) / (X1_w2 - X2_w2)\n",
    "plt.plot(x1, x2a, \"-\")\n",
    "\n",
    "# X3とX2の分類直線\n",
    "x1 = np.linspace(x1_min, x1_max, 5)\n",
    "# X3_w1 * x1 + X3_w2 * x2 + X3_b = X2_w1 * x1 + X2_w2 * x2 + X2_b\n",
    "x2b = ((X2_w1 - X3_w1) * x1) / (X3_w2 - X2_w2)  + (X2_b - X3_b) / (X3_w2 - X2_w2)\n",
    "plt.plot(x1, x2b, \"-\")\n"
   ]
  },
  {
   "cell_type": "code",
   "execution_count": 5,
   "metadata": {},
   "outputs": [
    {
     "name": "stdout",
     "output_type": "stream",
     "text": [
      "classified:\n",
      "[ True  True  True  True  True  True  True  True  True  True]\n",
      "\n",
      "output probability:\n",
      "[[  9.98682678e-01   1.31731527e-03   2.58784910e-10]\n",
      " [  3.43130948e-03   9.69049275e-01   2.75194254e-02]\n",
      " [  9.69157398e-01   3.08425445e-02   5.09097688e-08]\n",
      " [  1.93514787e-02   9.70684528e-01   9.96400509e-03]\n",
      " [  4.12158085e-09   8.59103166e-03   9.91409004e-01]\n",
      " [  1.71545204e-02   9.76335824e-01   6.50969939e-03]\n",
      " [  2.30860678e-07   4.24577259e-02   9.57542002e-01]\n",
      " [  7.25345686e-08   8.87839682e-03   9.91121531e-01]\n",
      " [  8.43027297e-12   1.41838231e-04   9.99858141e-01]\n",
      " [  9.95894194e-01   4.10580169e-03   2.68717937e-09]]\n"
     ]
    }
   ],
   "source": [
    "'''\n",
    "学習結果の確認\n",
    "'''\n",
    "X_, Y_ = shuffle(X, Y)\n",
    "\n",
    "classified = correct_prediction.eval(session=sess, feed_dict={\n",
    "    x: X_[0:10],\n",
    "    t: Y_[0:10]\n",
    "})\n",
    "prob = y.eval(session=sess, feed_dict={\n",
    "    x: X_[0:10]\n",
    "})\n",
    "\n",
    "print('classified:')\n",
    "print(classified)\n",
    "print()\n",
    "print('output probability:')\n",
    "print(prob)"
   ]
  }
 ],
 "metadata": {
  "kernelspec": {
   "display_name": "Python 3",
   "language": "python",
   "name": "python3"
  },
  "language_info": {
   "codemirror_mode": {
    "name": "ipython",
    "version": 3
   },
   "file_extension": ".py",
   "mimetype": "text/x-python",
   "name": "python",
   "nbconvert_exporter": "python",
   "pygments_lexer": "ipython3",
   "version": "3.5.3"
  }
 },
 "nbformat": 4,
 "nbformat_minor": 2
}
