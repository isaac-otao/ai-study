{
 "cells": [
  {
   "cell_type": "markdown",
   "metadata": {},
   "source": [
    "[詳解 ディープラーニング ~TensorFlow・Kerasによる時系列データ処理~](https://www.amazon.co.jp/dp/4839962510) に沿って動かしてみます\n",
    "\n",
    "# 3章　ニューラルネットワーク（後半）\n",
    "\n",
    "## 3.5 多クラスロジスティック回帰"
   ]
  },
  {
   "cell_type": "code",
   "execution_count": 23,
   "metadata": {},
   "outputs": [
    {
     "data": {
      "text/plain": [
       "<matplotlib.text.Text at 0x18945a6c160>"
      ]
     },
     "execution_count": 23,
     "metadata": {},
     "output_type": "execute_result"
    },
    {
     "data": {
      "image/png": "[encoded data removed]",
      "text/plain": [
       "<matplotlib.figure.Figure at 0x18945bb50f0>"
      ]
     },
     "metadata": {},
     "output_type": "display_data"
    }
   ],
   "source": [
    "%matplotlib inline\n",
    "import numpy as np\n",
    "import tensorflow as tf\n",
    "from sklearn.utils import shuffle\n",
    "import matplotlib.pyplot as plt\n",
    "\n",
    "np.random.seed(0)\n",
    "tf.set_random_seed(0)\n",
    "\n",
    "M = 2      # 入力データの次元\n",
    "K = 3      # クラス数\n",
    "n = 100    # クラスごとのデータ数\n",
    "N = n * K  # 全データ数\n",
    "\n",
    "#\n",
    "#データの生成\n",
    "#\n",
    "# クラス1: (0,10)付近\n",
    "X1 = np.random.randn(n, M) + np.array([0, 10])\n",
    "Y1 = np.array([[1, 0, 0] for i in range(n)])\n",
    "# クラス2: (5,5)付近\n",
    "X2 = np.random.randn(n, M) + np.array([5, 5])\n",
    "Y2 = np.array([[0, 1, 0] for i in range(n)])\n",
    "# クラス3: (10,0)付近\n",
    "X3 = np.random.randn(n, M) + np.array([10, 0])\n",
    "Y3 = np.array([[0, 0, 1] for i in range(n)])\n",
    "\n",
    "# 3クラス分のデータを結合して全体のデータを作成\n",
    "X = np.concatenate((X1, X2, X3), axis=0)\n",
    "Y = np.concatenate((Y1, Y2, Y3), axis=0)\n",
    "\n",
    "# データをプロット\n",
    "plt.plot(X1[:,0],X1[:,1],'o')\n",
    "plt.plot(X2[:,0],X2[:,1],'^')\n",
    "plt.plot(X3[:,0],X3[:,1],'x')\n",
    "plt.xlim(-4,14)\n",
    "plt.ylim(-4,14)\n",
    "plt.xlabel(\"x1\")\n",
    "plt.ylabel(\"x2\")\n"
   ]
  },
  {
   "cell_type": "code",
   "execution_count": 24,
   "metadata": {
    "collapsed": true
   },
   "outputs": [],
   "source": [
    "#\n",
    "# モデル設定\n",
    "#\n",
    "W = tf.Variable(tf.zeros([M, K]))\n",
    "b = tf.Variable(tf.zeros([K]))\n",
    "\n",
    "x = tf.placeholder(tf.float32, shape=[None, M])\n",
    "t = tf.placeholder(tf.float32, shape=[None, K])\n",
    "y = tf.nn.softmax(tf.matmul(x, W) + b)\n",
    "\n",
    "# tf.reduce_mean()でミニバッチ毎の平均値を算出\n",
    "# tf.reduce_sum()のreduction_indices=[1] …行方向の和\n",
    "cross_entropy = tf.reduce_mean(-tf.reduce_sum(t * tf.log(y),\n",
    "                               reduction_indices=[1]))\n",
    "train_step = tf.train.GradientDescentOptimizer(0.1).minimize(cross_entropy)\n",
    "\n",
    "# 分類が正しいか確認用\n",
    "correct_prediction = tf.equal(tf.argmax(y, 1), tf.argmax(t, 1))"
   ]
  },
  {
   "cell_type": "code",
   "execution_count": 25,
   "metadata": {},
   "outputs": [
    {
     "name": "stdout",
     "output_type": "stream",
     "text": [
      "[[ 1.  2.  3.]\n",
      " [ 4.  5.  6.]]\n",
      "21.0\n",
      "[ 5.  7.  9.]\n",
      "[  6.  15.]\n"
     ]
    }
   ],
   "source": [
    "#\n",
    "# （tf.reduce_sumの動作確認用）\n",
    "#\n",
    "test = np.array([[1., 2., 3.],[4., 5., 6.]])\n",
    "print(test)\n",
    "# 全体\n",
    "print(sess.run(tf.reduce_sum(test)))\n",
    "# 列方向\n",
    "print(sess.run(tf.reduce_sum(test, reduction_indices=[0])))\n",
    "# 行方向\n",
    "print(sess.run(tf.reduce_sum(test, reduction_indices=[1])))"
   ]
  },
  {
   "cell_type": "code",
   "execution_count": 21,
   "metadata": {},
   "outputs": [
    {
     "name": "stdout",
     "output_type": "stream",
     "text": [
      "epoc: 0\n",
      "   w: [[-0.3624872   0.06263676  0.29985043]\n",
      " [ 0.26875529  0.09939516 -0.36815047]]\n",
      "   b: [-0.01472155  0.02038056 -0.00565901]\n",
      "epoc: 1\n",
      "   w: [[-0.49481827  0.13629861  0.35851967]\n",
      " [ 0.37763828  0.12717733 -0.50481564]]\n",
      "   b: [-0.01918472  0.03392778 -0.01474305]\n",
      "epoc: 2\n",
      "   w: [[-0.58405054  0.1470812   0.43696928]\n",
      " [ 0.43812063  0.15078039 -0.58890104]]\n",
      "   b: [-0.0243234   0.04096479 -0.01664138]\n",
      "epoc: 3\n",
      "   w: [[-0.65667045  0.18153469  0.47513577]\n",
      " [ 0.47798371  0.18214238 -0.66012615]]\n",
      "   b: [-0.02967442  0.05086593 -0.0211915 ]\n",
      "epoc: 4\n",
      "   w: [[-0.70878232  0.19525024  0.51353204]\n",
      " [ 0.52720332  0.18758069 -0.71478415]]\n",
      "   b: [-0.03184819  0.05584501 -0.0239968 ]\n",
      "epoc: 5\n",
      "   w: [[-0.75774044  0.20737422  0.55036622]\n",
      " [ 0.55193722  0.20816442 -0.76010174]]\n",
      "   b: [-0.03590736  0.06183938 -0.025932  ]\n",
      "epoc: 6\n",
      "   w: [[-0.79525352  0.21034396  0.58490956]\n",
      " [ 0.58948785  0.20853873 -0.79802656]]\n",
      "   b: [-0.0375367   0.06485493 -0.02731821]\n",
      "epoc: 7\n",
      "   w: [[-0.83039081  0.22232275  0.60806805]\n",
      " [ 0.61527169  0.2183463  -0.83361804]]\n",
      "   b: [-0.03998649  0.06953391 -0.0295474 ]\n",
      "epoc: 8\n",
      "   w: [[-0.86442155  0.23724368  0.62717777]\n",
      " [ 0.63018668  0.23610963 -0.86629623]]\n",
      "   b: [-0.0432892   0.07515036 -0.03186115]\n",
      "epoc: 9\n",
      "   w: [[-0.89059967  0.23533112  0.65526843]\n",
      " [ 0.65902245  0.23360668 -0.89262915]]\n",
      "   b: [-0.04436313  0.07688365 -0.03252051]\n",
      "epoc: 10\n",
      "   w: [[-0.92242205  0.25647816  0.6659438 ]\n",
      " [ 0.66101152  0.26062459 -0.9216361 ]]\n",
      "   b: [-0.0485823   0.08379797 -0.03521565]\n",
      "epoc: 11\n",
      "   w: [[-0.94716579  0.26743335  0.67973238]\n",
      " [ 0.67770559  0.26889592 -0.94660151]]\n",
      "   b: [-0.05065352  0.08784372 -0.03719018]\n",
      "epoc: 12\n",
      "   w: [[-0.96554136  0.26459709  0.70094413]\n",
      " [ 0.70689178  0.26028651 -0.96717829]]\n",
      "   b: [-0.05080524  0.08873921 -0.03793394]\n",
      "epoc: 13\n",
      "   w: [[-0.98692411  0.27484983  0.7120741 ]\n",
      " [ 0.72124541  0.26773381 -0.98897928]]\n",
      "   b: [-0.05263578  0.09240577 -0.03976995]\n",
      "epoc: 14\n",
      "   w: [[-1.00514805  0.27643633  0.72871155]\n",
      " [ 0.74085051  0.26668429 -1.00753474]]\n",
      "   b: [-0.05361728  0.09433695 -0.04071962]\n",
      "epoc: 15\n",
      "   w: [[-1.02686608  0.28666285  0.7402029 ]\n",
      " [ 0.74370158  0.28303656 -1.02673793]]\n",
      "   b: [-0.05652174  0.09875244 -0.04223065]\n",
      "epoc: 16\n",
      "   w: [[-1.04311728  0.28971472  0.75340217]\n",
      " [ 0.76113194  0.28254184 -1.04367352]]\n",
      "   b: [-0.05744338  0.10075688 -0.04331345]\n",
      "epoc: 17\n",
      "   w: [[-1.06014121  0.29287109  0.76726967]\n",
      " [ 0.77188349  0.28773698 -1.05962026]]\n",
      "   b: [-0.05906799  0.10329568 -0.04422763]\n",
      "epoc: 18\n",
      "   w: [[-1.07548821  0.29741776  0.77806985]\n",
      " [ 0.78575754  0.28948185 -1.07523906]]\n",
      "   b: [-0.06020321  0.10558746 -0.04538419]\n",
      "epoc: 19\n",
      "   w: [[-1.09249198  0.30522385  0.78726739]\n",
      " [ 0.79068387  0.30014136 -1.09082472]]\n",
      "   b: [-0.06233881  0.10903089 -0.04669204]\n",
      "**** train finish ****\n",
      "w: [[-1.09249198  0.30522385  0.78726739]\n",
      " [ 0.79068387  0.30014136 -1.09082472]]\n",
      "b: [-0.06233881  0.10903089 -0.04669204]\n"
     ]
    }
   ],
   "source": [
    "#\n",
    "# 学習実施\n",
    "#\n",
    "\n",
    "# 初期化\n",
    "init = tf.global_variables_initializer()\n",
    "sess = tf.Session()\n",
    "sess.run(init)\n",
    "\n",
    "# ミニバッチサイズ\n",
    "batch_size = 50  \n",
    "# ミニバッチでループさせる回数を切り捨て除算で算出\n",
    "n_batches = N // batch_size\n",
    "\n",
    "# ミニバッチ学習\n",
    "# epoch=データ全体に対する反復回数\n",
    "for epoch in range(20):\n",
    "    # 全体をシャッフル\n",
    "    X_, Y_ = shuffle(X, Y)\n",
    "    \n",
    "    # ミニバッチごとにループ\n",
    "    for i in range(n_batches):\n",
    "        start = i * batch_size\n",
    "        end = start + batch_size\n",
    "\n",
    "        sess.run(train_step, feed_dict={\n",
    "            x: X_[start:end],\n",
    "            t: Y_[start:end]\n",
    "        })\n",
    "    \n",
    "    print(\"epoc:\" ,epoch)\n",
    "    print(\"   w:\" ,sess.run(W))\n",
    "    print(\"   b:\" ,sess.run(b))\n",
    "\n",
    "print(\"**** train finish ****\")\n",
    "\n",
    "print(\"w:\" ,sess.run(W))\n",
    "print(\"b:\" ,sess.run(b))\n",
    "        \n",
    "        "
   ]
  },
  {
   "cell_type": "code",
   "execution_count": 22,
   "metadata": {},
   "outputs": [
    {
     "name": "stdout",
     "output_type": "stream",
     "text": [
      "classified:\n",
      "[ True  True  True  True  True  True  True  True  True  True]\n",
      "\n",
      "output probability:\n",
      "[[  6.19771937e-03   9.78941202e-01   1.48609644e-02]\n",
      " [  3.10711865e-03   9.81328845e-01   1.55640207e-02]\n",
      " [  9.93816912e-01   6.18305197e-03   2.58843458e-09]\n",
      " [  1.43191004e-02   9.78989422e-01   6.69154013e-03]\n",
      " [  1.97073966e-02   9.73151386e-01   7.14115053e-03]\n",
      " [  3.53435382e-07   3.49676870e-02   9.65031981e-01]\n",
      " [  9.98172998e-01   1.82698795e-03   7.77147513e-10]\n",
      " [  1.10108467e-09   9.71025508e-03   9.90289748e-01]\n",
      " [  9.95387256e-01   4.61280299e-03   1.90209430e-08]\n",
      " [  9.92935002e-01   7.06495531e-03   1.27505553e-08]]\n"
     ]
    }
   ],
   "source": [
    "#\n",
    "# 学習結果の確認\n",
    "#\n",
    "X_, Y_ = shuffle(X, Y)\n",
    "\n",
    "# シャッフルしたデータのうち10個で確認\n",
    "classified = correct_prediction.eval(session=sess, feed_dict={\n",
    "    x: X_[0:10],\n",
    "    t: Y_[0:10]\n",
    "})\n",
    "prob = y.eval(session=sess, feed_dict={\n",
    "    x: X_[0:10]\n",
    "})\n",
    "\n",
    "print('classified:')\n",
    "print(classified)\n",
    "print()\n",
    "print('output probability:')\n",
    "print(prob)"
   ]
  },
  {
   "cell_type": "code",
   "execution_count": 6,
   "metadata": {},
   "outputs": [
    {
     "name": "stdout",
     "output_type": "stream",
     "text": [
      "-2.55298981583\n",
      "12.6962240526\n",
      "---X1---\n",
      "-1.09313\n",
      "0.795459\n",
      "-0.0591481\n",
      "---X2---\n",
      "0.300588\n",
      "0.293977\n",
      "0.108083\n",
      "---X3---\n",
      "0.792541\n",
      "-1.08944\n",
      "-0.0489351\n"
     ]
    },
    {
     "data": {
      "text/plain": [
       "[<matplotlib.lines.Line2D at 0x18945bedc18>]"
      ]
     },
     "execution_count": 6,
     "metadata": {},
     "output_type": "execute_result"
    },
    {
     "data": {
      "image/png": "[encoded data removed]",
      "text/plain": [
       "<matplotlib.figure.Figure at 0x18945bb18d0>"
      ]
     },
     "metadata": {},
     "output_type": "display_data"
    }
   ],
   "source": [
    "# グラフ描画用　Xの範囲を抽出\n",
    "x1_min = X[:,0].min()\n",
    "x1_max = X[:,0].max()\n",
    "print(x1_min)\n",
    "print(x1_max)\n",
    "\n",
    "plt.plot(X1[:,0],X1[:,1],'o')\n",
    "plt.plot(X2[:,0],X2[:,1],'^')\n",
    "plt.plot(X3[:,0],X3[:,1],'x')\n",
    "plt.xlim(-4,14)\n",
    "plt.ylim(-4,14)\n",
    "plt.xlabel(\"x1\")\n",
    "plt.ylabel(\"x2\")\n",
    "\n",
    "\n",
    "# 学習結果をNdArrayに詰める\n",
    "result_w = sess.run(W)\n",
    "result_b = sess.run(b)\n",
    "\n",
    "# X1(0,10付近のグループ)\n",
    "X1_w1 = result_w[0,0]\n",
    "X1_w2 = result_w[1,0]\n",
    "X1_b = result_b[0]\n",
    "print(\"---X1---\")\n",
    "print(X1_w1)\n",
    "print(X1_w2)\n",
    "print(X1_b)\n",
    "\n",
    "\n",
    "# X2(5,5付近のグループ)\n",
    "X2_w1 = result_w[0,1]\n",
    "X2_w2 = result_w[1,1]\n",
    "X2_b = result_b[1]\n",
    "print(\"---X2---\")\n",
    "print(X2_w1)\n",
    "print(X2_w2)\n",
    "print(X2_b)\n",
    "\n",
    "# X3(10,0付近のグループ)\n",
    "X3_w1 = result_w[0,2]\n",
    "X3_w2 = result_w[1,2]\n",
    "X3_b = result_b[2]\n",
    "print(\"---X3---\")\n",
    "print(X3_w1)\n",
    "print(X3_w2)\n",
    "print(X3_b)\n",
    "\n",
    "# X1とX2の分類直線\n",
    "x1 = np.linspace(x1_min, x1_max, 5)\n",
    "# X1_w1 * x1 + X1_w2 * x2 + X1_b = X2_w1 * x1 + X2_w2 * x2 + X2_b\n",
    "x2a = ((X2_w1 - X1_w1) * x1) / (X1_w2 - X2_w2)  + (X2_b - X1_b) / (X1_w2 - X2_w2)\n",
    "plt.plot(x1, x2a, \"-\")\n",
    "\n",
    "# X3とX2の分類直線\n",
    "x1 = np.linspace(x1_min, x1_max, 5)\n",
    "# X3_w1 * x1 + X3_w2 * x2 + X3_b = X2_w1 * x1 + X2_w2 * x2 + X2_b\n",
    "x2b = ((X2_w1 - X3_w1) * x1) / (X3_w2 - X2_w2)  + (X2_b - X3_b) / (X3_w2 - X2_w2)\n",
    "plt.plot(x1, x2b, \"-\")\n"
   ]
  },
  {
   "cell_type": "markdown",
   "metadata": {},
   "source": [
    "## 3.6 多層パーセプトロン"
   ]
  },
  {
   "cell_type": "code",
   "execution_count": 35,
   "metadata": {},
   "outputs": [
    {
     "data": {
      "text/plain": [
       "<matplotlib.text.Text at 0x18947218898>"
      ]
     },
     "execution_count": 35,
     "metadata": {},
     "output_type": "execute_result"
    },
    {
     "data": {
      "image/png": "[encoded data removed]",
      "text/plain": [
       "<matplotlib.figure.Figure at 0x18946e7d128>"
      ]
     },
     "metadata": {},
     "output_type": "display_data"
    }
   ],
   "source": [
    "%matplotlib inline\n",
    "import numpy as np\n",
    "import tensorflow as tf\n",
    "from sklearn.utils import shuffle\n",
    "import matplotlib.pyplot as plt\n",
    "\n",
    "\n",
    "tf.set_random_seed(0)\n",
    "\n",
    "#\n",
    "# データの生成 (XOR)\n",
    "#\n",
    "X = np.array([[0, 0], [0, 1], [1, 0], [1, 1]])\n",
    "Y = np.array([[0],    [1],    [1],    [0]])\n",
    "\n",
    "\n",
    "plt.plot(X[:,0],X[:,1],'o')\n",
    "plt.xlim(-1,2)\n",
    "plt.ylim(-1,2)\n",
    "plt.xlabel(\"x1\")\n",
    "plt.ylabel(\"x2\")"
   ]
  },
  {
   "cell_type": "code",
   "execution_count": 36,
   "metadata": {},
   "outputs": [
    {
     "name": "stdout",
     "output_type": "stream",
     "text": [
      "epoch: 0\n",
      "epoch: 1000\n",
      "epoch: 2000\n",
      "epoch: 3000\n",
      "W: [[ 4.89622498  6.9116087 ]\n",
      " [ 4.88868618  6.86783981]]\n",
      "b: [-7.49212503 -3.090523  ]\n",
      "V: [[-11.47534466]\n",
      " [ 10.6570158 ]]\n",
      "c: [-4.89556789]\n"
     ]
    }
   ],
   "source": [
    "#\n",
    "# モデル設定\n",
    "#\n",
    "x = tf.placeholder(tf.float32, shape=[None, 2])\n",
    "t = tf.placeholder(tf.float32, shape=[None, 1])\n",
    "\n",
    "# 入力層 - 隠れ層\n",
    "W = tf.Variable(tf.truncated_normal([2, 2]))\n",
    "b = tf.Variable(tf.zeros([2]))\n",
    "h = tf.nn.sigmoid(tf.matmul(x, W) + b)\n",
    "\n",
    "# 隠れ層 - 出力層\n",
    "V = tf.Variable(tf.truncated_normal([2, 1]))\n",
    "c = tf.Variable(tf.zeros([1]))\n",
    "y = tf.nn.sigmoid(tf.matmul(h, V) + c)\n",
    "\n",
    "cross_entropy = - tf.reduce_sum(t * tf.log(y) + (1 - t) * tf.log(1 - y))\n",
    "train_step = tf.train.GradientDescentOptimizer(0.1).minimize(cross_entropy)\n",
    "\n",
    "# 正しく分類できているか確認用 \n",
    "correct_prediction = tf.equal(tf.to_float(tf.greater(y, 0.5)), t)\n",
    "\n",
    "#\n",
    "# モデル学習\n",
    "#\n",
    "init = tf.global_variables_initializer()\n",
    "sess = tf.Session()\n",
    "sess.run(init)\n",
    "\n",
    "for epoch in range(4000):\n",
    "    sess.run(train_step, feed_dict={\n",
    "        x: X,\n",
    "        t: Y\n",
    "    })\n",
    "    if epoch % 1000 == 0:\n",
    "        print('epoch:', epoch)\n",
    "\n",
    "print(\"W:\" ,sess.run(W))\n",
    "print(\"b:\" ,sess.run(b))\n",
    "print(\"V:\"  ,sess.run(V))\n",
    "print(\"c:\"  ,sess.run(c))\n"
   ]
  },
  {
   "cell_type": "code",
   "execution_count": 37,
   "metadata": {},
   "outputs": [
    {
     "name": "stdout",
     "output_type": "stream",
     "text": [
      "classified:\n",
      "[[ True]\n",
      " [ True]\n",
      " [ True]\n",
      " [ True]]\n",
      "\n",
      "output probability:\n",
      "[[ 0.01167707]\n",
      " [ 0.99126959]\n",
      " [ 0.9913078 ]\n",
      " [ 0.00936287]]\n"
     ]
    }
   ],
   "source": [
    "#\n",
    "# 学習結果の確認\n",
    "#\n",
    "classified = correct_prediction.eval(session=sess, feed_dict={\n",
    "    x: X,\n",
    "    t: Y\n",
    "})\n",
    "prob = y.eval(session=sess, feed_dict={\n",
    "    x: X\n",
    "})\n",
    "\n",
    "print('classified:')\n",
    "print(classified)\n",
    "print()\n",
    "print('output probability:')\n",
    "print(prob)"
   ]
  },
  {
   "cell_type": "code",
   "execution_count": 38,
   "metadata": {},
   "outputs": [
    {
     "name": "stdout",
     "output_type": "stream",
     "text": [
      "[[ 4.89622498  6.9116087 ]\n",
      " [ 4.88868618  6.86783981]]\n",
      "[-7.49212503 -3.090523  ]\n"
     ]
    },
    {
     "data": {
      "text/plain": [
       "[<matplotlib.lines.Line2D at 0x189473d1ef0>]"
      ]
     },
     "execution_count": 38,
     "metadata": {},
     "output_type": "execute_result"
    },
    {
     "data": {
      "image/png": "[encoded data removed]",
      "text/plain": [
       "<matplotlib.figure.Figure at 0x189471a9d30>"
      ]
     },
     "metadata": {},
     "output_type": "display_data"
    }
   ],
   "source": [
    "#\n",
    "# 学習結果から境界線をひいてみる\n",
    "#\n",
    "plt.plot(X[:,0],X[:,1],'o')\n",
    "plt.xlim(-1,2)\n",
    "plt.ylim(-1,2)\n",
    "plt.xlabel(\"x1\")\n",
    "plt.ylabel(\"x2\")\n",
    "\n",
    "result_w = sess.run(W)\n",
    "result_b = sess.run(b)\n",
    "result_v = sess.run(V)\n",
    "result_c = sess.run(c)\n",
    "print(result_w)\n",
    "print(result_b)\n",
    "\n",
    "\n",
    "x1 = np.linspace(-1,2,4)\n",
    "x2 = -(result_w[0][0] * x1 )/ result_w[0][1] - (result_b[0] / result_w[0][1])\n",
    "plt.plot(x1, x2, \"-\")\n",
    "x2 = -(result_w[1][0] * x1 )/ result_w[1][1] - (result_b[1] / result_w[1][1])\n",
    "plt.plot(x1, x2, \"-\")"
   ]
  },
  {
   "cell_type": "code",
   "execution_count": null,
   "metadata": {
    "collapsed": true
   },
   "outputs": [],
   "source": []
  }
 ],
 "metadata": {
  "kernelspec": {
   "display_name": "Python 3",
   "language": "python",
   "name": "python3"
  },
  "language_info": {
   "codemirror_mode": {
    "name": "ipython",
    "version": 3
   },
   "file_extension": ".py",
   "mimetype": "text/x-python",
   "name": "python",
   "nbconvert_exporter": "python",
   "pygments_lexer": "ipython3",
   "version": "3.5.3"
  }
 },
 "nbformat": 4,
 "nbformat_minor": 2
}
