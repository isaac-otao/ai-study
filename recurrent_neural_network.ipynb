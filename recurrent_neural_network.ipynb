{
 "cells": [
  {
   "cell_type": "code",
   "execution_count": 4,
   "metadata": {
    "collapsed": true
   },
   "outputs": [],
   "source": [
    "%matplotlib inline\n",
    "import numpy as np\n",
    "import scipy as sp\n",
    "import scipy.interpolate\n",
    "#from sklearn.utils import shuffle\n",
    "import matplotlib.pyplot as plt\n",
    "\n",
    "def sin(x, T=100):\n",
    "    return np.sin(2.0 * np.pi * x / T)\n",
    "\n",
    "def toy_problem(T=100, ampl=0.05):\n",
    "    x = np.arange(0, 2 * T + 1)\n",
    "    noise = ampl * np.random.uniform(low=-1.0, high=1.0, size=len(x))\n",
    "    return sin(x) + noise\n"
   ]
  },
  {
   "cell_type": "markdown",
   "metadata": {},
   "source": [
    "### データ全体の生成"
   ]
  },
  {
   "cell_type": "code",
   "execution_count": 14,
   "metadata": {},
   "outputs": [
    {
     "name": "stdout",
     "output_type": "stream",
     "text": [
      "[  1.62591048e-02   8.60558580e-02   1.04992509e-01   2.08587226e-01\n",
      "   2.54182112e-01   3.39090095e-01   3.44494062e-01   4.05714301e-01\n",
      "   4.69385596e-01   5.19895390e-01   5.59308482e-01   6.17453513e-01\n",
      "   6.59535654e-01   7.28291244e-01   7.79251944e-01   7.64176744e-01\n",
      "   8.46263674e-01   8.47984335e-01   9.46178592e-01   9.32462215e-01\n",
      "   9.08167201e-01   9.80870873e-01   1.02878993e+00   9.71702283e-01\n",
      "   1.02283923e+00   1.02211387e+00   1.04322104e+00   9.82897504e-01\n",
      "   9.40100535e-01   9.61424093e-01   9.31986036e-01   9.42907052e-01\n",
      "   9.47659024e-01   8.53710028e-01   8.73201871e-01   7.70244354e-01\n",
      "   7.94037729e-01   6.82897065e-01   6.90551134e-01   6.02977543e-01\n",
      "   5.49020620e-01   5.20276126e-01   5.07764386e-01   4.60719881e-01\n",
      "   3.54843244e-01   2.95982256e-01   2.33473168e-01   1.41376051e-01\n",
      "   1.08531907e-01   3.84450947e-02  -2.03560148e-02  -9.41842163e-02\n",
      "  -1.43772263e-01  -1.42619201e-01  -2.91058123e-01  -3.58006713e-01\n",
      "  -4.11927674e-01  -3.94438496e-01  -5.16638330e-01  -5.78196031e-01\n",
      "  -5.55548823e-01  -6.29754212e-01  -7.03477115e-01  -6.97298915e-01\n",
      "  -8.04773496e-01  -8.40983204e-01  -8.02307498e-01  -8.45944508e-01\n",
      "  -9.33904572e-01  -9.01535105e-01  -9.97539837e-01  -9.84755419e-01\n",
      "  -9.51463422e-01  -9.90061295e-01  -1.01310192e+00  -1.02030303e+00\n",
      "  -9.58817021e-01  -9.87465222e-01  -9.95133049e-01  -9.57435761e-01\n",
      "  -9.56435799e-01  -9.60002707e-01  -9.13423042e-01  -8.55665804e-01\n",
      "  -8.31926812e-01  -7.89842450e-01  -8.17031905e-01  -7.52569902e-01\n",
      "  -6.67919681e-01  -6.58794853e-01  -5.41171188e-01  -4.96122844e-01\n",
      "  -5.13776948e-01  -4.56433387e-01  -3.97998686e-01  -3.18343463e-01\n",
      "  -2.85868979e-01  -1.84304368e-01  -1.18043300e-01  -9.82250200e-02\n",
      "  -1.51732237e-02   4.68196545e-02   1.66828458e-01   1.62542325e-01\n",
      "   2.31681964e-01   3.56271480e-01   3.26678662e-01   4.32411948e-01\n",
      "   4.58324775e-01   5.08265982e-01   6.05670573e-01   6.45352726e-01\n",
      "   6.93192781e-01   6.99960418e-01   7.46127089e-01   8.36245027e-01\n",
      "   8.07705656e-01   8.28342620e-01   9.00177667e-01   9.17985964e-01\n",
      "   9.83355543e-01   1.01322295e+00   9.42739207e-01   1.00228083e+00\n",
      "   9.70762829e-01   9.85860043e-01   1.04143637e+00   9.67134885e-01\n",
      "   9.68142578e-01   9.46452149e-01   9.06773834e-01   9.28708752e-01\n",
      "   9.40483380e-01   9.24759483e-01   8.50080545e-01   7.66592982e-01\n",
      "   7.25542636e-01   7.65216803e-01   7.06609752e-01   5.96115948e-01\n",
      "   6.05959089e-01   5.62868388e-01   4.43055897e-01   4.61158187e-01\n",
      "   3.97255728e-01   3.27056107e-01   2.64581372e-01   1.66293597e-01\n",
      "   8.98018577e-02   8.37033918e-02  -1.65127184e-02  -1.10666229e-01\n",
      "  -1.65299654e-01  -1.64424971e-01  -2.21151812e-01  -3.53112021e-01\n",
      "  -3.65779806e-01  -4.75063260e-01  -4.92737670e-01  -5.11855637e-01\n",
      "  -5.53724437e-01  -5.92953667e-01  -7.18730619e-01  -7.27833268e-01\n",
      "  -7.91997062e-01  -8.48280518e-01  -8.77166107e-01  -8.58968578e-01\n",
      "  -9.47124944e-01  -9.57604634e-01  -9.97408430e-01  -9.95451987e-01\n",
      "  -9.45796636e-01  -9.95876870e-01  -1.04499675e+00  -9.89088794e-01\n",
      "  -1.02689313e+00  -9.64369259e-01  -1.02460620e+00  -9.19700014e-01\n",
      "  -9.42082951e-01  -9.43065726e-01  -9.41816231e-01  -8.73738428e-01\n",
      "  -8.35387524e-01  -7.91331547e-01  -7.73954885e-01  -7.65379761e-01\n",
      "  -6.96241069e-01  -6.15786341e-01  -6.33589466e-01  -5.20689603e-01\n",
      "  -4.86673934e-01  -4.00083758e-01  -3.56204263e-01  -2.80522765e-01\n",
      "  -2.02854747e-01  -1.78879855e-01  -1.49251127e-01  -3.98239883e-02\n",
      "   3.14794887e-04]\n"
     ]
    },
    {
     "data": {
      "text/plain": [
       "[<matplotlib.lines.Line2D at 0x992a710>]"
      ]
     },
     "execution_count": 14,
     "metadata": {},
     "output_type": "execute_result"
    },
    {
     "data": {
      "image/png": "[encoded data removed]",
      "text/plain": [
       "<matplotlib.figure.Figure at 0x99325f8>"
      ]
     },
     "metadata": {},
     "output_type": "display_data"
    }
   ],
   "source": [
    "T = 100\n",
    "f = toy_problem(T)\n",
    "print(f)\n",
    "\n",
    "\n",
    "# プロット＋曲線を引く\n",
    "# 参考URL： https://blog.monophile.net/posts/20131014_matplotlib_interpolate.html\n",
    "# scipy install: https://anaconda.org/anaconda/scipy\n",
    "num = len(f)\n",
    "start, end = 0, 1\n",
    "x = np.linspace(start,end,num)\n",
    "y = f\n",
    "import scipy.interpolate\n",
    "sp = scipy.interpolate.InterpolatedUnivariateSpline(x,y)\n",
    "\n",
    "fig = plt.figure()\n",
    "ax = fig.gca()\n",
    "ax.set_xlim(start,end)\n",
    "\n",
    "sx = np.linspace(start,end,1000)\n",
    "sy = sp(sx)\n",
    "ax.plot(x,y,\"bo\")\n",
    "ax.plot(sx,sy,\"b\")"
   ]
  },
  {
   "cell_type": "markdown",
   "metadata": {},
   "source": [
    "### 全体データから、一定の長さでズラシながら抽出してデータセットを作る\n",
    "\n",
    "```\n",
    "(全体データ)\n",
    "2.541 3.3909  3.4449  4.0571  4.6938  5.1989  5.5930 6.17453\n",
    "　↓\n",
    "(t時点)data    　　 　target\n",
    "2.541 3.3909  3.4449→4.0571\n",
    "(t+1時点) data           　　 　target\n",
    "      3.3909  3.4449  4.0571→  4.6938\n",
    "```"
   ]
  },
  {
   "cell_type": "code",
   "execution_count": 18,
   "metadata": {},
   "outputs": [
    {
     "name": "stdout",
     "output_type": "stream",
     "text": [
      "[array([ 0.0162591 ,  0.08605586,  0.10499251,  0.20858723,  0.25418211,\n",
      "        0.3390901 ,  0.34449406,  0.4057143 ,  0.4693856 ,  0.51989539,\n",
      "        0.55930848,  0.61745351,  0.65953565,  0.72829124,  0.77925194,\n",
      "        0.76417674,  0.84626367,  0.84798433,  0.94617859,  0.93246222,\n",
      "        0.9081672 ,  0.98087087,  1.02878993,  0.97170228,  1.02283923]), array([ 0.08605586,  0.10499251,  0.20858723,  0.25418211,  0.3390901 ,\n",
      "        0.34449406,  0.4057143 ,  0.4693856 ,  0.51989539,  0.55930848,\n",
      "        0.61745351,  0.65953565,  0.72829124,  0.77925194,  0.76417674,\n",
      "        0.84626367,  0.84798433,  0.94617859,  0.93246222,  0.9081672 ,\n",
      "        0.98087087,  1.02878993,  0.97170228,  1.02283923,  1.02211387]), array([ 0.10499251,  0.20858723,  0.25418211,  0.3390901 ,  0.34449406,\n",
      "        0.4057143 ,  0.4693856 ,  0.51989539,  0.55930848,  0.61745351,\n",
      "        0.65953565,  0.72829124,  0.77925194,  0.76417674,  0.84626367,\n",
      "        0.84798433,  0.94617859,  0.93246222,  0.9081672 ,  0.98087087,\n",
      "        1.02878993,  0.97170228,  1.02283923,  1.02211387,  1.04322104])]\n",
      "[1.0221138653064992, 1.0432210358315135, 0.98289750444157842]\n"
     ]
    }
   ],
   "source": [
    "# 全データの長さ\n",
    "length_of_sequence = 2 * T\n",
    "# 1つの時系列データの長さ\n",
    "maxlen = 25\n",
    "\n",
    "data = []\n",
    "target = []\n",
    "\n",
    "for i in range(0, length_of_sequence - maxlen + 1):\n",
    "    data.append(f[i: i + maxlen])\n",
    "    target.append(f[i + maxlen])\n",
    "\n",
    "print(data[0:3])\n",
    "print(target[0:3])"
   ]
  },
  {
   "cell_type": "code",
   "execution_count": null,
   "metadata": {
    "collapsed": true
   },
   "outputs": [],
   "source": []
  }
 ],
 "metadata": {
  "kernelspec": {
   "display_name": "Python 3",
   "language": "python",
   "name": "python3"
  },
  "language_info": {
   "codemirror_mode": {
    "name": "ipython",
    "version": 3
   },
   "file_extension": ".py",
   "mimetype": "text/x-python",
   "name": "python",
   "nbconvert_exporter": "python",
   "pygments_lexer": "ipython3",
   "version": "3.5.4"
  }
 },
 "nbformat": 4,
 "nbformat_minor": 2
}
