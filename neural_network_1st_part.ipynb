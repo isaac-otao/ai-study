{
 "cells": [
  {
   "cell_type": "markdown",
   "metadata": {},
   "source": [
    "[詳解 ディープラーニング ~TensorFlow・Kerasによる時系列データ処理~](https://www.amazon.co.jp/dp/4839962510) に沿って動かしてみます\n",
    "\n",
    "# 3章　ニューラルネットワーク（前半）\n"
   ]
  },
  {
   "cell_type": "markdown",
   "metadata": {},
   "source": [
    "## 3.3 単純パーセプトロン\n",
    "\n",
    "+ 82ページ 3.3.2実装～のコード（をベースにしたもの）\n",
    "+ P83のコードでx1, x2という変数が出てくるが、P82(式3.15)のX=(x1,x2,,,)と混同するので、xg0,xg1と置き換える\n",
    "+ モデル式：y = w1\\*x1 + w2\\*x2 +b"
   ]
  },
  {
   "cell_type": "code",
   "execution_count": 13,
   "metadata": {},
   "outputs": [
    {
     "name": "stdout",
     "output_type": "stream",
     "text": [
      "[[-1.0856306   0.99734545]\n",
      " [ 0.2829785  -1.50629471]\n",
      " [-0.57860025  1.65143654]\n",
      " [-2.42667924 -0.42891263]\n",
      " [ 1.26593626 -0.8667404 ]\n",
      " [-0.67888615 -0.09470897]\n",
      " [ 1.49138963 -0.638902  ]\n",
      " [-0.44398196 -0.43435128]\n",
      " [ 2.20593008  2.18678609]\n",
      " [ 1.0040539   0.3861864 ]]\n",
      "[[ 5.73736858  6.49073203]\n",
      " [ 4.06416613  6.17582904]\n",
      " [ 3.74611933  4.3622485 ]\n",
      " [ 5.9071052   3.5713193 ]\n",
      " [ 4.85993128  4.1382451 ]\n",
      " [ 4.74438063  2.20141089]\n",
      " [ 3.2284669   4.30012277]\n",
      " [ 5.92746243  4.82636432]\n",
      " [ 5.00284592  5.68822271]\n",
      " [ 4.12046366  5.28362732]]\n"
     ]
    }
   ],
   "source": [
    "%matplotlib inline\n",
    "import numpy as np\n",
    "import matplotlib.pyplot as plt\n",
    "\n",
    "#データの次元\n",
    "d = 2\n",
    "#各パターンのデータ数\n",
    "N = 10\n",
    "# ニューロンが発火するデータの平均値\n",
    "mean = 5\n",
    "\n",
    "# 乱数の結果を一定にするため、状態を定める（毎回同じ結果になる）\n",
    "rng = np.random.RandomState(123)\n",
    "\n",
    "# ２つのグループを乱数で生成する\n",
    "# xg0:発火しないデータ＝平均０（0,0付近）\n",
    "xg0 = rng.randn(N, d) + np.array([0, 0])\n",
    "# xg1:発火するデータ＝平均５（meanで指定した数値） （mean,mean付近）\n",
    "xg1 = rng.randn(N, d) + np.array([mean, mean])\n",
    "print(xg0)\n",
    "print(xg1)"
   ]
  },
  {
   "cell_type": "code",
   "execution_count": 14,
   "metadata": {},
   "outputs": [
    {
     "data": {
      "text/plain": [
       "<matplotlib.text.Text at 0x1a3f7053208>"
      ]
     },
     "execution_count": 14,
     "metadata": {},
     "output_type": "execute_result"
    },
    {
     "data": {
      "image/png": "[encoded data removed]",
      "text/plain": [
       "<matplotlib.figure.Figure at 0x1a3f6fb1550>"
      ]
     },
     "metadata": {},
     "output_type": "display_data"
    }
   ],
   "source": [
    "# xg0, xg1をプロットしてみる\n",
    "plt.plot(xg0[:,0],xg0[:,1],'ro')\n",
    "plt.plot(xg1[:,0],xg1[:,1],'^')\n",
    "plt.xlabel(\"x1\")\n",
    "plt.ylabel(\"x2\")"
   ]
  },
  {
   "cell_type": "code",
   "execution_count": 15,
   "metadata": {},
   "outputs": [
    {
     "name": "stdout",
     "output_type": "stream",
     "text": [
      "[[-1.0856306   0.99734545]\n",
      " [ 0.2829785  -1.50629471]\n",
      " [-0.57860025  1.65143654]\n",
      " [-2.42667924 -0.42891263]\n",
      " [ 1.26593626 -0.8667404 ]\n",
      " [-0.67888615 -0.09470897]\n",
      " [ 1.49138963 -0.638902  ]\n",
      " [-0.44398196 -0.43435128]\n",
      " [ 2.20593008  2.18678609]\n",
      " [ 1.0040539   0.3861864 ]\n",
      " [ 5.73736858  6.49073203]\n",
      " [ 4.06416613  6.17582904]\n",
      " [ 3.74611933  4.3622485 ]\n",
      " [ 5.9071052   3.5713193 ]\n",
      " [ 4.85993128  4.1382451 ]\n",
      " [ 4.74438063  2.20141089]\n",
      " [ 3.2284669   4.30012277]\n",
      " [ 5.92746243  4.82636432]\n",
      " [ 5.00284592  5.68822271]\n",
      " [ 4.12046366  5.28362732]]\n"
     ]
    }
   ],
   "source": [
    "# xg0とxg1を連結して１つのデータにする\n",
    "x = np.concatenate((xg0, xg1), axis = 0)\n",
    "print(x)"
   ]
  },
  {
   "cell_type": "code",
   "execution_count": 16,
   "metadata": {},
   "outputs": [
    {
     "name": "stdout",
     "output_type": "stream",
     "text": [
      "w: [ 0.  0.]\n",
      "b: 0\n"
     ]
    }
   ],
   "source": [
    "#モデル定義\n",
    "w = np.zeros(d)\n",
    "b = 0\n",
    "\n",
    "def y(x):\n",
    "    return step(np.dot(w, x) + b)\n",
    "\n",
    "def step(x):\n",
    "    return 1 * (x > 0)\n",
    "\n",
    "# 正しい出力値を返す関数\n",
    "def t(i):\n",
    "    if i < N:\n",
    "        return 0\n",
    "    else:\n",
    "        return 1\n",
    "\n",
    "# 学習前の初期値\n",
    "print(\"w:\", w)\n",
    "print(\"b:\", b)"
   ]
  },
  {
   "cell_type": "code",
   "execution_count": 17,
   "metadata": {},
   "outputs": [
    {
     "name": "stdout",
     "output_type": "stream",
     "text": [
      "epoc:001\n",
      " data:00, x:[-1.0856306   0.99734545], w:[ 0.  0.], b:0, y:0, t:0\n",
      "           delta_w:[-0.  0.], delta_b:0, classified:1\n",
      "epoc:002\n",
      " data:01, x:[ 0.2829785  -1.50629471], w:[ 0.  0.], b:0, y:0, t:0\n",
      "           delta_w:[ 0. -0.], delta_b:0, classified:1\n",
      "epoc:003\n",
      " data:02, x:[-0.57860025  1.65143654], w:[ 0.  0.], b:0, y:0, t:0\n",
      "           delta_w:[-0.  0.], delta_b:0, classified:1\n",
      "epoc:004\n",
      " data:03, x:[-2.42667924 -0.42891263], w:[ 0.  0.], b:0, y:0, t:0\n",
      "           delta_w:[-0. -0.], delta_b:0, classified:1\n",
      "epoc:005\n",
      " data:04, x:[ 1.26593626 -0.8667404 ], w:[ 0.  0.], b:0, y:0, t:0\n",
      "           delta_w:[ 0. -0.], delta_b:0, classified:1\n",
      "epoc:006\n",
      " data:05, x:[-0.67888615 -0.09470897], w:[ 0.  0.], b:0, y:0, t:0\n",
      "           delta_w:[-0. -0.], delta_b:0, classified:1\n",
      "epoc:007\n",
      " data:06, x:[ 1.49138963 -0.638902  ], w:[ 0.  0.], b:0, y:0, t:0\n",
      "           delta_w:[ 0. -0.], delta_b:0, classified:1\n",
      "epoc:008\n",
      " data:07, x:[-0.44398196 -0.43435128], w:[ 0.  0.], b:0, y:0, t:0\n",
      "           delta_w:[-0. -0.], delta_b:0, classified:1\n",
      "epoc:009\n",
      " data:08, x:[ 2.20593008  2.18678609], w:[ 0.  0.], b:0, y:0, t:0\n",
      "           delta_w:[ 0.  0.], delta_b:0, classified:1\n",
      "epoc:010\n",
      " data:09, x:[ 1.0040539  0.3861864], w:[ 0.  0.], b:0, y:0, t:0\n",
      "           delta_w:[ 0.  0.], delta_b:0, classified:1\n",
      "epoc:011\n",
      " data:10, x:[ 5.73736858  6.49073203], w:[ 0.  0.], b:0, y:0, t:1\n",
      "           delta_w:[ 5.73736858  6.49073203], delta_b:1, classified:0\n",
      "epoc:012\n",
      " data:11, x:[ 4.06416613  6.17582904], w:[ 5.73736858  6.49073203], b:1, y:1, t:1\n",
      "           delta_w:[ 0.  0.], delta_b:0, classified:0\n",
      "epoc:013\n",
      " data:12, x:[ 3.74611933  4.3622485 ], w:[ 5.73736858  6.49073203], b:1, y:1, t:1\n",
      "           delta_w:[ 0.  0.], delta_b:0, classified:0\n",
      "epoc:014\n",
      " data:13, x:[ 5.9071052  3.5713193], w:[ 5.73736858  6.49073203], b:1, y:1, t:1\n",
      "           delta_w:[ 0.  0.], delta_b:0, classified:0\n",
      "epoc:015\n",
      " data:14, x:[ 4.85993128  4.1382451 ], w:[ 5.73736858  6.49073203], b:1, y:1, t:1\n",
      "           delta_w:[ 0.  0.], delta_b:0, classified:0\n",
      "epoc:016\n",
      " data:15, x:[ 4.74438063  2.20141089], w:[ 5.73736858  6.49073203], b:1, y:1, t:1\n",
      "           delta_w:[ 0.  0.], delta_b:0, classified:0\n",
      "epoc:017\n",
      " data:16, x:[ 3.2284669   4.30012277], w:[ 5.73736858  6.49073203], b:1, y:1, t:1\n",
      "           delta_w:[ 0.  0.], delta_b:0, classified:0\n",
      "epoc:018\n",
      " data:17, x:[ 5.92746243  4.82636432], w:[ 5.73736858  6.49073203], b:1, y:1, t:1\n",
      "           delta_w:[ 0.  0.], delta_b:0, classified:0\n",
      "epoc:019\n",
      " data:18, x:[ 5.00284592  5.68822271], w:[ 5.73736858  6.49073203], b:1, y:1, t:1\n",
      "           delta_w:[ 0.  0.], delta_b:0, classified:0\n",
      "epoc:020\n",
      " data:19, x:[ 4.12046366  5.28362732], w:[ 5.73736858  6.49073203], b:1, y:1, t:1\n",
      "           delta_w:[ 0.  0.], delta_b:0, classified:0\n",
      "--- ALL DATA NOT CLASSIFIED CORRECTLY. ONE MORE LOOP ---\n",
      "epoc:021\n",
      " data:00, x:[-1.0856306   0.99734545], w:[ 5.73736858  6.49073203], b:1, y:1, t:0\n",
      "           delta_w:[ 1.0856306  -0.99734545], delta_b:-1, classified:0\n",
      "epoc:022\n",
      " data:01, x:[ 0.2829785  -1.50629471], w:[ 6.82299918  5.49338658], b:0, y:0, t:0\n",
      "           delta_w:[ 0. -0.], delta_b:0, classified:0\n",
      "epoc:023\n",
      " data:02, x:[-0.57860025  1.65143654], w:[ 6.82299918  5.49338658], b:0, y:1, t:0\n",
      "           delta_w:[ 0.57860025 -1.65143654], delta_b:-1, classified:0\n",
      "epoc:024\n",
      " data:03, x:[-2.42667924 -0.42891263], w:[ 7.40159943  3.84195004], b:-1, y:0, t:0\n",
      "           delta_w:[-0. -0.], delta_b:0, classified:0\n",
      "epoc:025\n",
      " data:04, x:[ 1.26593626 -0.8667404 ], w:[ 7.40159943  3.84195004], b:-1, y:1, t:0\n",
      "           delta_w:[-1.26593626  0.8667404 ], delta_b:-1, classified:0\n",
      "epoc:026\n",
      " data:05, x:[-0.67888615 -0.09470897], w:[ 6.13566317  4.70869045], b:-2, y:0, t:0\n",
      "           delta_w:[-0. -0.], delta_b:0, classified:0\n",
      "epoc:027\n",
      " data:06, x:[ 1.49138963 -0.638902  ], w:[ 6.13566317  4.70869045], b:-2, y:1, t:0\n",
      "           delta_w:[-1.49138963  0.638902  ], delta_b:-1, classified:0\n",
      "epoc:028\n",
      " data:07, x:[-0.44398196 -0.43435128], w:[ 4.64427355  5.34759244], b:-3, y:0, t:0\n",
      "           delta_w:[-0. -0.], delta_b:0, classified:0\n",
      "epoc:029\n",
      " data:08, x:[ 2.20593008  2.18678609], w:[ 4.64427355  5.34759244], b:-3, y:1, t:0\n",
      "           delta_w:[-2.20593008 -2.18678609], delta_b:-1, classified:0\n",
      "epoc:030\n",
      " data:09, x:[ 1.0040539  0.3861864], w:[ 2.43834346  3.16080635], b:-4, y:0, t:0\n",
      "           delta_w:[ 0.  0.], delta_b:0, classified:0\n",
      "epoc:031\n",
      " data:10, x:[ 5.73736858  6.49073203], w:[ 2.43834346  3.16080635], b:-4, y:1, t:1\n",
      "           delta_w:[ 0.  0.], delta_b:0, classified:0\n",
      "epoc:032\n",
      " data:11, x:[ 4.06416613  6.17582904], w:[ 2.43834346  3.16080635], b:-4, y:1, t:1\n",
      "           delta_w:[ 0.  0.], delta_b:0, classified:0\n",
      "epoc:033\n",
      " data:12, x:[ 3.74611933  4.3622485 ], w:[ 2.43834346  3.16080635], b:-4, y:1, t:1\n",
      "           delta_w:[ 0.  0.], delta_b:0, classified:0\n",
      "epoc:034\n",
      " data:13, x:[ 5.9071052  3.5713193], w:[ 2.43834346  3.16080635], b:-4, y:1, t:1\n",
      "           delta_w:[ 0.  0.], delta_b:0, classified:0\n",
      "epoc:035\n",
      " data:14, x:[ 4.85993128  4.1382451 ], w:[ 2.43834346  3.16080635], b:-4, y:1, t:1\n",
      "           delta_w:[ 0.  0.], delta_b:0, classified:0\n",
      "epoc:036\n",
      " data:15, x:[ 4.74438063  2.20141089], w:[ 2.43834346  3.16080635], b:-4, y:1, t:1\n",
      "           delta_w:[ 0.  0.], delta_b:0, classified:0\n",
      "epoc:037\n",
      " data:16, x:[ 3.2284669   4.30012277], w:[ 2.43834346  3.16080635], b:-4, y:1, t:1\n",
      "           delta_w:[ 0.  0.], delta_b:0, classified:0\n",
      "epoc:038\n",
      " data:17, x:[ 5.92746243  4.82636432], w:[ 2.43834346  3.16080635], b:-4, y:1, t:1\n",
      "           delta_w:[ 0.  0.], delta_b:0, classified:0\n",
      "epoc:039\n",
      " data:18, x:[ 5.00284592  5.68822271], w:[ 2.43834346  3.16080635], b:-4, y:1, t:1\n",
      "           delta_w:[ 0.  0.], delta_b:0, classified:0\n",
      "epoc:040\n",
      " data:19, x:[ 4.12046366  5.28362732], w:[ 2.43834346  3.16080635], b:-4, y:1, t:1\n",
      "           delta_w:[ 0.  0.], delta_b:0, classified:0\n",
      "--- ALL DATA NOT CLASSIFIED CORRECTLY. ONE MORE LOOP ---\n",
      "epoc:041\n",
      " data:00, x:[-1.0856306   0.99734545], w:[ 2.43834346  3.16080635], b:-4, y:0, t:0\n",
      "           delta_w:[-0.  0.], delta_b:0, classified:1\n",
      "epoc:042\n",
      " data:01, x:[ 0.2829785  -1.50629471], w:[ 2.43834346  3.16080635], b:-4, y:0, t:0\n",
      "           delta_w:[ 0. -0.], delta_b:0, classified:1\n",
      "epoc:043\n",
      " data:02, x:[-0.57860025  1.65143654], w:[ 2.43834346  3.16080635], b:-4, y:0, t:0\n",
      "           delta_w:[-0.  0.], delta_b:0, classified:1\n",
      "epoc:044\n",
      " data:03, x:[-2.42667924 -0.42891263], w:[ 2.43834346  3.16080635], b:-4, y:0, t:0\n",
      "           delta_w:[-0. -0.], delta_b:0, classified:1\n",
      "epoc:045\n",
      " data:04, x:[ 1.26593626 -0.8667404 ], w:[ 2.43834346  3.16080635], b:-4, y:0, t:0\n",
      "           delta_w:[ 0. -0.], delta_b:0, classified:1\n",
      "epoc:046\n",
      " data:05, x:[-0.67888615 -0.09470897], w:[ 2.43834346  3.16080635], b:-4, y:0, t:0\n",
      "           delta_w:[-0. -0.], delta_b:0, classified:1\n",
      "epoc:047\n",
      " data:06, x:[ 1.49138963 -0.638902  ], w:[ 2.43834346  3.16080635], b:-4, y:0, t:0\n",
      "           delta_w:[ 0. -0.], delta_b:0, classified:1\n",
      "epoc:048\n",
      " data:07, x:[-0.44398196 -0.43435128], w:[ 2.43834346  3.16080635], b:-4, y:0, t:0\n",
      "           delta_w:[-0. -0.], delta_b:0, classified:1\n",
      "epoc:049\n",
      " data:08, x:[ 2.20593008  2.18678609], w:[ 2.43834346  3.16080635], b:-4, y:1, t:0\n",
      "           delta_w:[-2.20593008 -2.18678609], delta_b:-1, classified:0\n",
      "epoc:050\n",
      " data:09, x:[ 1.0040539  0.3861864], w:[ 0.23241338  0.97402027], b:-5, y:0, t:0\n",
      "           delta_w:[ 0.  0.], delta_b:0, classified:0\n",
      "epoc:051\n",
      " data:10, x:[ 5.73736858  6.49073203], w:[ 0.23241338  0.97402027], b:-5, y:1, t:1\n",
      "           delta_w:[ 0.  0.], delta_b:0, classified:0\n",
      "epoc:052\n",
      " data:11, x:[ 4.06416613  6.17582904], w:[ 0.23241338  0.97402027], b:-5, y:1, t:1\n",
      "           delta_w:[ 0.  0.], delta_b:0, classified:0\n",
      "epoc:053\n",
      " data:12, x:[ 3.74611933  4.3622485 ], w:[ 0.23241338  0.97402027], b:-5, y:1, t:1\n",
      "           delta_w:[ 0.  0.], delta_b:0, classified:0\n",
      "epoc:054\n",
      " data:13, x:[ 5.9071052  3.5713193], w:[ 0.23241338  0.97402027], b:-5, y:0, t:1\n",
      "           delta_w:[ 5.9071052  3.5713193], delta_b:1, classified:0\n",
      "epoc:055\n",
      " data:14, x:[ 4.85993128  4.1382451 ], w:[ 6.13951858  4.54533957], b:-4, y:1, t:1\n",
      "           delta_w:[ 0.  0.], delta_b:0, classified:0\n",
      "epoc:056\n",
      " data:15, x:[ 4.74438063  2.20141089], w:[ 6.13951858  4.54533957], b:-4, y:1, t:1\n",
      "           delta_w:[ 0.  0.], delta_b:0, classified:0\n",
      "epoc:057\n",
      " data:16, x:[ 3.2284669   4.30012277], w:[ 6.13951858  4.54533957], b:-4, y:1, t:1\n",
      "           delta_w:[ 0.  0.], delta_b:0, classified:0\n",
      "epoc:058\n",
      " data:17, x:[ 5.92746243  4.82636432], w:[ 6.13951858  4.54533957], b:-4, y:1, t:1\n",
      "           delta_w:[ 0.  0.], delta_b:0, classified:0\n",
      "epoc:059\n",
      " data:18, x:[ 5.00284592  5.68822271], w:[ 6.13951858  4.54533957], b:-4, y:1, t:1\n",
      "           delta_w:[ 0.  0.], delta_b:0, classified:0\n",
      "epoc:060\n",
      " data:19, x:[ 4.12046366  5.28362732], w:[ 6.13951858  4.54533957], b:-4, y:1, t:1\n",
      "           delta_w:[ 0.  0.], delta_b:0, classified:0\n",
      "--- ALL DATA NOT CLASSIFIED CORRECTLY. ONE MORE LOOP ---\n",
      "epoc:061\n",
      " data:00, x:[-1.0856306   0.99734545], w:[ 6.13951858  4.54533957], b:-4, y:0, t:0\n",
      "           delta_w:[-0.  0.], delta_b:0, classified:1\n",
      "epoc:062\n",
      " data:01, x:[ 0.2829785  -1.50629471], w:[ 6.13951858  4.54533957], b:-4, y:0, t:0\n",
      "           delta_w:[ 0. -0.], delta_b:0, classified:1\n",
      "epoc:063\n",
      " data:02, x:[-0.57860025  1.65143654], w:[ 6.13951858  4.54533957], b:-4, y:0, t:0\n",
      "           delta_w:[-0.  0.], delta_b:0, classified:1\n",
      "epoc:064\n",
      " data:03, x:[-2.42667924 -0.42891263], w:[ 6.13951858  4.54533957], b:-4, y:0, t:0\n",
      "           delta_w:[-0. -0.], delta_b:0, classified:1\n",
      "epoc:065\n",
      " data:04, x:[ 1.26593626 -0.8667404 ], w:[ 6.13951858  4.54533957], b:-4, y:0, t:0\n",
      "           delta_w:[ 0. -0.], delta_b:0, classified:1\n",
      "epoc:066\n",
      " data:05, x:[-0.67888615 -0.09470897], w:[ 6.13951858  4.54533957], b:-4, y:0, t:0\n",
      "           delta_w:[-0. -0.], delta_b:0, classified:1\n",
      "epoc:067\n",
      " data:06, x:[ 1.49138963 -0.638902  ], w:[ 6.13951858  4.54533957], b:-4, y:1, t:0\n",
      "           delta_w:[-1.49138963  0.638902  ], delta_b:-1, classified:0\n",
      "epoc:068\n",
      " data:07, x:[-0.44398196 -0.43435128], w:[ 4.64812895  5.18424156], b:-5, y:0, t:0\n",
      "           delta_w:[-0. -0.], delta_b:0, classified:0\n",
      "epoc:069\n",
      " data:08, x:[ 2.20593008  2.18678609], w:[ 4.64812895  5.18424156], b:-5, y:1, t:0\n",
      "           delta_w:[-2.20593008 -2.18678609], delta_b:-1, classified:0\n",
      "epoc:070\n",
      " data:09, x:[ 1.0040539  0.3861864], w:[ 2.44219887  2.99745547], b:-6, y:0, t:0\n",
      "           delta_w:[ 0.  0.], delta_b:0, classified:0\n",
      "epoc:071\n",
      " data:10, x:[ 5.73736858  6.49073203], w:[ 2.44219887  2.99745547], b:-6, y:1, t:1\n",
      "           delta_w:[ 0.  0.], delta_b:0, classified:0\n",
      "epoc:072\n",
      " data:11, x:[ 4.06416613  6.17582904], w:[ 2.44219887  2.99745547], b:-6, y:1, t:1\n",
      "           delta_w:[ 0.  0.], delta_b:0, classified:0\n",
      "epoc:073\n",
      " data:12, x:[ 3.74611933  4.3622485 ], w:[ 2.44219887  2.99745547], b:-6, y:1, t:1\n",
      "           delta_w:[ 0.  0.], delta_b:0, classified:0\n",
      "epoc:074\n",
      " data:13, x:[ 5.9071052  3.5713193], w:[ 2.44219887  2.99745547], b:-6, y:1, t:1\n",
      "           delta_w:[ 0.  0.], delta_b:0, classified:0\n",
      "epoc:075\n",
      " data:14, x:[ 4.85993128  4.1382451 ], w:[ 2.44219887  2.99745547], b:-6, y:1, t:1\n",
      "           delta_w:[ 0.  0.], delta_b:0, classified:0\n",
      "epoc:076\n",
      " data:15, x:[ 4.74438063  2.20141089], w:[ 2.44219887  2.99745547], b:-6, y:1, t:1\n",
      "           delta_w:[ 0.  0.], delta_b:0, classified:0\n",
      "epoc:077\n",
      " data:16, x:[ 3.2284669   4.30012277], w:[ 2.44219887  2.99745547], b:-6, y:1, t:1\n",
      "           delta_w:[ 0.  0.], delta_b:0, classified:0\n",
      "epoc:078\n",
      " data:17, x:[ 5.92746243  4.82636432], w:[ 2.44219887  2.99745547], b:-6, y:1, t:1\n",
      "           delta_w:[ 0.  0.], delta_b:0, classified:0\n",
      "epoc:079\n",
      " data:18, x:[ 5.00284592  5.68822271], w:[ 2.44219887  2.99745547], b:-6, y:1, t:1\n",
      "           delta_w:[ 0.  0.], delta_b:0, classified:0\n",
      "epoc:080\n"
     ]
    },
    {
     "name": "stdout",
     "output_type": "stream",
     "text": [
      " data:19, x:[ 4.12046366  5.28362732], w:[ 2.44219887  2.99745547], b:-6, y:1, t:1\n",
      "           delta_w:[ 0.  0.], delta_b:0, classified:0\n",
      "--- ALL DATA NOT CLASSIFIED CORRECTLY. ONE MORE LOOP ---\n",
      "epoc:081\n",
      " data:00, x:[-1.0856306   0.99734545], w:[ 2.44219887  2.99745547], b:-6, y:0, t:0\n",
      "           delta_w:[-0.  0.], delta_b:0, classified:1\n",
      "epoc:082\n",
      " data:01, x:[ 0.2829785  -1.50629471], w:[ 2.44219887  2.99745547], b:-6, y:0, t:0\n",
      "           delta_w:[ 0. -0.], delta_b:0, classified:1\n",
      "epoc:083\n",
      " data:02, x:[-0.57860025  1.65143654], w:[ 2.44219887  2.99745547], b:-6, y:0, t:0\n",
      "           delta_w:[-0.  0.], delta_b:0, classified:1\n",
      "epoc:084\n",
      " data:03, x:[-2.42667924 -0.42891263], w:[ 2.44219887  2.99745547], b:-6, y:0, t:0\n",
      "           delta_w:[-0. -0.], delta_b:0, classified:1\n",
      "epoc:085\n",
      " data:04, x:[ 1.26593626 -0.8667404 ], w:[ 2.44219887  2.99745547], b:-6, y:0, t:0\n",
      "           delta_w:[ 0. -0.], delta_b:0, classified:1\n",
      "epoc:086\n",
      " data:05, x:[-0.67888615 -0.09470897], w:[ 2.44219887  2.99745547], b:-6, y:0, t:0\n",
      "           delta_w:[-0. -0.], delta_b:0, classified:1\n",
      "epoc:087\n",
      " data:06, x:[ 1.49138963 -0.638902  ], w:[ 2.44219887  2.99745547], b:-6, y:0, t:0\n",
      "           delta_w:[ 0. -0.], delta_b:0, classified:1\n",
      "epoc:088\n",
      " data:07, x:[-0.44398196 -0.43435128], w:[ 2.44219887  2.99745547], b:-6, y:0, t:0\n",
      "           delta_w:[-0. -0.], delta_b:0, classified:1\n",
      "epoc:089\n",
      " data:08, x:[ 2.20593008  2.18678609], w:[ 2.44219887  2.99745547], b:-6, y:1, t:0\n",
      "           delta_w:[-2.20593008 -2.18678609], delta_b:-1, classified:0\n",
      "epoc:090\n",
      " data:09, x:[ 1.0040539  0.3861864], w:[ 0.23626879  0.81066938], b:-7, y:0, t:0\n",
      "           delta_w:[ 0.  0.], delta_b:0, classified:0\n",
      "epoc:091\n",
      " data:10, x:[ 5.73736858  6.49073203], w:[ 0.23626879  0.81066938], b:-7, y:0, t:1\n",
      "           delta_w:[ 5.73736858  6.49073203], delta_b:1, classified:0\n",
      "epoc:092\n",
      " data:11, x:[ 4.06416613  6.17582904], w:[ 5.97363736  7.30140141], b:-6, y:1, t:1\n",
      "           delta_w:[ 0.  0.], delta_b:0, classified:0\n",
      "epoc:093\n",
      " data:12, x:[ 3.74611933  4.3622485 ], w:[ 5.97363736  7.30140141], b:-6, y:1, t:1\n",
      "           delta_w:[ 0.  0.], delta_b:0, classified:0\n",
      "epoc:094\n",
      " data:13, x:[ 5.9071052  3.5713193], w:[ 5.97363736  7.30140141], b:-6, y:1, t:1\n",
      "           delta_w:[ 0.  0.], delta_b:0, classified:0\n",
      "epoc:095\n",
      " data:14, x:[ 4.85993128  4.1382451 ], w:[ 5.97363736  7.30140141], b:-6, y:1, t:1\n",
      "           delta_w:[ 0.  0.], delta_b:0, classified:0\n",
      "epoc:096\n",
      " data:15, x:[ 4.74438063  2.20141089], w:[ 5.97363736  7.30140141], b:-6, y:1, t:1\n",
      "           delta_w:[ 0.  0.], delta_b:0, classified:0\n",
      "epoc:097\n",
      " data:16, x:[ 3.2284669   4.30012277], w:[ 5.97363736  7.30140141], b:-6, y:1, t:1\n",
      "           delta_w:[ 0.  0.], delta_b:0, classified:0\n",
      "epoc:098\n",
      " data:17, x:[ 5.92746243  4.82636432], w:[ 5.97363736  7.30140141], b:-6, y:1, t:1\n",
      "           delta_w:[ 0.  0.], delta_b:0, classified:0\n",
      "epoc:099\n",
      " data:18, x:[ 5.00284592  5.68822271], w:[ 5.97363736  7.30140141], b:-6, y:1, t:1\n",
      "           delta_w:[ 0.  0.], delta_b:0, classified:0\n",
      "epoc:100\n",
      " data:19, x:[ 4.12046366  5.28362732], w:[ 5.97363736  7.30140141], b:-6, y:1, t:1\n",
      "           delta_w:[ 0.  0.], delta_b:0, classified:0\n",
      "--- ALL DATA NOT CLASSIFIED CORRECTLY. ONE MORE LOOP ---\n",
      "epoc:101\n",
      " data:00, x:[-1.0856306   0.99734545], w:[ 5.97363736  7.30140141], b:-6, y:0, t:0\n",
      "           delta_w:[-0.  0.], delta_b:0, classified:1\n",
      "epoc:102\n",
      " data:01, x:[ 0.2829785  -1.50629471], w:[ 5.97363736  7.30140141], b:-6, y:0, t:0\n",
      "           delta_w:[ 0. -0.], delta_b:0, classified:1\n",
      "epoc:103\n",
      " data:02, x:[-0.57860025  1.65143654], w:[ 5.97363736  7.30140141], b:-6, y:1, t:0\n",
      "           delta_w:[ 0.57860025 -1.65143654], delta_b:-1, classified:0\n",
      "epoc:104\n",
      " data:03, x:[-2.42667924 -0.42891263], w:[ 6.55223761  5.64996488], b:-7, y:0, t:0\n",
      "           delta_w:[-0. -0.], delta_b:0, classified:0\n",
      "epoc:105\n",
      " data:04, x:[ 1.26593626 -0.8667404 ], w:[ 6.55223761  5.64996488], b:-7, y:0, t:0\n",
      "           delta_w:[ 0. -0.], delta_b:0, classified:0\n",
      "epoc:106\n",
      " data:05, x:[-0.67888615 -0.09470897], w:[ 6.55223761  5.64996488], b:-7, y:0, t:0\n",
      "           delta_w:[-0. -0.], delta_b:0, classified:0\n",
      "epoc:107\n",
      " data:06, x:[ 1.49138963 -0.638902  ], w:[ 6.55223761  5.64996488], b:-7, y:0, t:0\n",
      "           delta_w:[ 0. -0.], delta_b:0, classified:0\n",
      "epoc:108\n",
      " data:07, x:[-0.44398196 -0.43435128], w:[ 6.55223761  5.64996488], b:-7, y:0, t:0\n",
      "           delta_w:[-0. -0.], delta_b:0, classified:0\n",
      "epoc:109\n",
      " data:08, x:[ 2.20593008  2.18678609], w:[ 6.55223761  5.64996488], b:-7, y:1, t:0\n",
      "           delta_w:[-2.20593008 -2.18678609], delta_b:-1, classified:0\n",
      "epoc:110\n",
      " data:09, x:[ 1.0040539  0.3861864], w:[ 4.34630753  3.46317879], b:-8, y:0, t:0\n",
      "           delta_w:[ 0.  0.], delta_b:0, classified:0\n",
      "epoc:111\n",
      " data:10, x:[ 5.73736858  6.49073203], w:[ 4.34630753  3.46317879], b:-8, y:1, t:1\n",
      "           delta_w:[ 0.  0.], delta_b:0, classified:0\n",
      "epoc:112\n",
      " data:11, x:[ 4.06416613  6.17582904], w:[ 4.34630753  3.46317879], b:-8, y:1, t:1\n",
      "           delta_w:[ 0.  0.], delta_b:0, classified:0\n",
      "epoc:113\n",
      " data:12, x:[ 3.74611933  4.3622485 ], w:[ 4.34630753  3.46317879], b:-8, y:1, t:1\n",
      "           delta_w:[ 0.  0.], delta_b:0, classified:0\n",
      "epoc:114\n",
      " data:13, x:[ 5.9071052  3.5713193], w:[ 4.34630753  3.46317879], b:-8, y:1, t:1\n",
      "           delta_w:[ 0.  0.], delta_b:0, classified:0\n",
      "epoc:115\n",
      " data:14, x:[ 4.85993128  4.1382451 ], w:[ 4.34630753  3.46317879], b:-8, y:1, t:1\n",
      "           delta_w:[ 0.  0.], delta_b:0, classified:0\n",
      "epoc:116\n",
      " data:15, x:[ 4.74438063  2.20141089], w:[ 4.34630753  3.46317879], b:-8, y:1, t:1\n",
      "           delta_w:[ 0.  0.], delta_b:0, classified:0\n",
      "epoc:117\n",
      " data:16, x:[ 3.2284669   4.30012277], w:[ 4.34630753  3.46317879], b:-8, y:1, t:1\n",
      "           delta_w:[ 0.  0.], delta_b:0, classified:0\n",
      "epoc:118\n",
      " data:17, x:[ 5.92746243  4.82636432], w:[ 4.34630753  3.46317879], b:-8, y:1, t:1\n",
      "           delta_w:[ 0.  0.], delta_b:0, classified:0\n",
      "epoc:119\n",
      " data:18, x:[ 5.00284592  5.68822271], w:[ 4.34630753  3.46317879], b:-8, y:1, t:1\n",
      "           delta_w:[ 0.  0.], delta_b:0, classified:0\n",
      "epoc:120\n",
      " data:19, x:[ 4.12046366  5.28362732], w:[ 4.34630753  3.46317879], b:-8, y:1, t:1\n",
      "           delta_w:[ 0.  0.], delta_b:0, classified:0\n",
      "--- ALL DATA NOT CLASSIFIED CORRECTLY. ONE MORE LOOP ---\n",
      "epoc:121\n",
      " data:00, x:[-1.0856306   0.99734545], w:[ 4.34630753  3.46317879], b:-8, y:0, t:0\n",
      "           delta_w:[-0.  0.], delta_b:0, classified:1\n",
      "epoc:122\n",
      " data:01, x:[ 0.2829785  -1.50629471], w:[ 4.34630753  3.46317879], b:-8, y:0, t:0\n",
      "           delta_w:[ 0. -0.], delta_b:0, classified:1\n",
      "epoc:123\n",
      " data:02, x:[-0.57860025  1.65143654], w:[ 4.34630753  3.46317879], b:-8, y:0, t:0\n",
      "           delta_w:[-0.  0.], delta_b:0, classified:1\n",
      "epoc:124\n",
      " data:03, x:[-2.42667924 -0.42891263], w:[ 4.34630753  3.46317879], b:-8, y:0, t:0\n",
      "           delta_w:[-0. -0.], delta_b:0, classified:1\n",
      "epoc:125\n",
      " data:04, x:[ 1.26593626 -0.8667404 ], w:[ 4.34630753  3.46317879], b:-8, y:0, t:0\n",
      "           delta_w:[ 0. -0.], delta_b:0, classified:1\n",
      "epoc:126\n",
      " data:05, x:[-0.67888615 -0.09470897], w:[ 4.34630753  3.46317879], b:-8, y:0, t:0\n",
      "           delta_w:[-0. -0.], delta_b:0, classified:1\n",
      "epoc:127\n",
      " data:06, x:[ 1.49138963 -0.638902  ], w:[ 4.34630753  3.46317879], b:-8, y:0, t:0\n",
      "           delta_w:[ 0. -0.], delta_b:0, classified:1\n",
      "epoc:128\n",
      " data:07, x:[-0.44398196 -0.43435128], w:[ 4.34630753  3.46317879], b:-8, y:0, t:0\n",
      "           delta_w:[-0. -0.], delta_b:0, classified:1\n",
      "epoc:129\n",
      " data:08, x:[ 2.20593008  2.18678609], w:[ 4.34630753  3.46317879], b:-8, y:1, t:0\n",
      "           delta_w:[-2.20593008 -2.18678609], delta_b:-1, classified:0\n",
      "epoc:130\n",
      " data:09, x:[ 1.0040539  0.3861864], w:[ 2.14037745  1.2763927 ], b:-9, y:0, t:0\n",
      "           delta_w:[ 0.  0.], delta_b:0, classified:0\n",
      "epoc:131\n",
      " data:10, x:[ 5.73736858  6.49073203], w:[ 2.14037745  1.2763927 ], b:-9, y:1, t:1\n",
      "           delta_w:[ 0.  0.], delta_b:0, classified:0\n",
      "epoc:132\n",
      " data:11, x:[ 4.06416613  6.17582904], w:[ 2.14037745  1.2763927 ], b:-9, y:1, t:1\n",
      "           delta_w:[ 0.  0.], delta_b:0, classified:0\n",
      "epoc:133\n",
      " data:12, x:[ 3.74611933  4.3622485 ], w:[ 2.14037745  1.2763927 ], b:-9, y:1, t:1\n",
      "           delta_w:[ 0.  0.], delta_b:0, classified:0\n",
      "epoc:134\n",
      " data:13, x:[ 5.9071052  3.5713193], w:[ 2.14037745  1.2763927 ], b:-9, y:1, t:1\n",
      "           delta_w:[ 0.  0.], delta_b:0, classified:0\n",
      "epoc:135\n",
      " data:14, x:[ 4.85993128  4.1382451 ], w:[ 2.14037745  1.2763927 ], b:-9, y:1, t:1\n",
      "           delta_w:[ 0.  0.], delta_b:0, classified:0\n",
      "epoc:136\n",
      " data:15, x:[ 4.74438063  2.20141089], w:[ 2.14037745  1.2763927 ], b:-9, y:1, t:1\n",
      "           delta_w:[ 0.  0.], delta_b:0, classified:0\n",
      "epoc:137\n",
      " data:16, x:[ 3.2284669   4.30012277], w:[ 2.14037745  1.2763927 ], b:-9, y:1, t:1\n",
      "           delta_w:[ 0.  0.], delta_b:0, classified:0\n",
      "epoc:138\n",
      " data:17, x:[ 5.92746243  4.82636432], w:[ 2.14037745  1.2763927 ], b:-9, y:1, t:1\n",
      "           delta_w:[ 0.  0.], delta_b:0, classified:0\n",
      "epoc:139\n",
      " data:18, x:[ 5.00284592  5.68822271], w:[ 2.14037745  1.2763927 ], b:-9, y:1, t:1\n",
      "           delta_w:[ 0.  0.], delta_b:0, classified:0\n",
      "epoc:140\n",
      " data:19, x:[ 4.12046366  5.28362732], w:[ 2.14037745  1.2763927 ], b:-9, y:1, t:1\n",
      "           delta_w:[ 0.  0.], delta_b:0, classified:0\n",
      "--- ALL DATA NOT CLASSIFIED CORRECTLY. ONE MORE LOOP ---\n",
      "epoc:141\n",
      " data:00, x:[-1.0856306   0.99734545], w:[ 2.14037745  1.2763927 ], b:-9, y:0, t:0\n",
      "           delta_w:[-0.  0.], delta_b:0, classified:1\n",
      "epoc:142\n",
      " data:01, x:[ 0.2829785  -1.50629471], w:[ 2.14037745  1.2763927 ], b:-9, y:0, t:0\n",
      "           delta_w:[ 0. -0.], delta_b:0, classified:1\n",
      "epoc:143\n",
      " data:02, x:[-0.57860025  1.65143654], w:[ 2.14037745  1.2763927 ], b:-9, y:0, t:0\n",
      "           delta_w:[-0.  0.], delta_b:0, classified:1\n",
      "epoc:144\n",
      " data:03, x:[-2.42667924 -0.42891263], w:[ 2.14037745  1.2763927 ], b:-9, y:0, t:0\n",
      "           delta_w:[-0. -0.], delta_b:0, classified:1\n",
      "epoc:145\n",
      " data:04, x:[ 1.26593626 -0.8667404 ], w:[ 2.14037745  1.2763927 ], b:-9, y:0, t:0\n",
      "           delta_w:[ 0. -0.], delta_b:0, classified:1\n",
      "epoc:146\n",
      " data:05, x:[-0.67888615 -0.09470897], w:[ 2.14037745  1.2763927 ], b:-9, y:0, t:0\n",
      "           delta_w:[-0. -0.], delta_b:0, classified:1\n",
      "epoc:147\n",
      " data:06, x:[ 1.49138963 -0.638902  ], w:[ 2.14037745  1.2763927 ], b:-9, y:0, t:0\n",
      "           delta_w:[ 0. -0.], delta_b:0, classified:1\n",
      "epoc:148\n",
      " data:07, x:[-0.44398196 -0.43435128], w:[ 2.14037745  1.2763927 ], b:-9, y:0, t:0\n",
      "           delta_w:[-0. -0.], delta_b:0, classified:1\n",
      "epoc:149\n",
      " data:08, x:[ 2.20593008  2.18678609], w:[ 2.14037745  1.2763927 ], b:-9, y:0, t:0\n",
      "           delta_w:[ 0.  0.], delta_b:0, classified:1\n",
      "epoc:150\n",
      " data:09, x:[ 1.0040539  0.3861864], w:[ 2.14037745  1.2763927 ], b:-9, y:0, t:0\n",
      "           delta_w:[ 0.  0.], delta_b:0, classified:1\n",
      "epoc:151\n",
      " data:10, x:[ 5.73736858  6.49073203], w:[ 2.14037745  1.2763927 ], b:-9, y:1, t:1\n",
      "           delta_w:[ 0.  0.], delta_b:0, classified:1\n",
      "epoc:152\n",
      " data:11, x:[ 4.06416613  6.17582904], w:[ 2.14037745  1.2763927 ], b:-9, y:1, t:1\n",
      "           delta_w:[ 0.  0.], delta_b:0, classified:1\n",
      "epoc:153\n",
      " data:12, x:[ 3.74611933  4.3622485 ], w:[ 2.14037745  1.2763927 ], b:-9, y:1, t:1\n",
      "           delta_w:[ 0.  0.], delta_b:0, classified:1\n",
      "epoc:154\n",
      " data:13, x:[ 5.9071052  3.5713193], w:[ 2.14037745  1.2763927 ], b:-9, y:1, t:1\n",
      "           delta_w:[ 0.  0.], delta_b:0, classified:1\n",
      "epoc:155\n",
      " data:14, x:[ 4.85993128  4.1382451 ], w:[ 2.14037745  1.2763927 ], b:-9, y:1, t:1\n",
      "           delta_w:[ 0.  0.], delta_b:0, classified:1\n",
      "epoc:156\n",
      " data:15, x:[ 4.74438063  2.20141089], w:[ 2.14037745  1.2763927 ], b:-9, y:1, t:1\n",
      "           delta_w:[ 0.  0.], delta_b:0, classified:1\n",
      "epoc:157\n",
      " data:16, x:[ 3.2284669   4.30012277], w:[ 2.14037745  1.2763927 ], b:-9, y:1, t:1\n",
      "           delta_w:[ 0.  0.], delta_b:0, classified:1\n",
      "epoc:158\n",
      " data:17, x:[ 5.92746243  4.82636432], w:[ 2.14037745  1.2763927 ], b:-9, y:1, t:1\n",
      "           delta_w:[ 0.  0.], delta_b:0, classified:1\n",
      "epoc:159\n",
      " data:18, x:[ 5.00284592  5.68822271], w:[ 2.14037745  1.2763927 ], b:-9, y:1, t:1\n",
      "           delta_w:[ 0.  0.], delta_b:0, classified:1\n",
      "epoc:160\n",
      " data:19, x:[ 4.12046366  5.28362732], w:[ 2.14037745  1.2763927 ], b:-9, y:1, t:1\n",
      "           delta_w:[ 0.  0.], delta_b:0, classified:1\n",
      "**** ALL DATA CLASSIFIED CORRECTLY ****\n"
     ]
    }
   ],
   "source": [
    "# 学習実施\n",
    "epoc = 1\n",
    "while True:\n",
    "    classified = True\n",
    "    #for i in range(N * 2):\n",
    "    for i in range(len(x)):\n",
    "        print(\"epoc:%03d\" % (epoc))\n",
    "        print(\" data:%02d, x:%s, w:%s, b:%d, y:%d, t:%d\" % (i, str(x[i]), str(w), b, y(x[i]), t(i)))\n",
    "        delta_w = (t(i) - y(x[i])) * x[i]\n",
    "        delta_b = (t(i) - y(x[i]))\n",
    "        w += delta_w\n",
    "        b += delta_b\n",
    "        classified *= all(delta_w == 0) * (delta_b == 0)\n",
    "        print(\"           delta_w:%s, delta_b:%d, classified:%d\" % (str(delta_w), delta_b, classified))\n",
    "        epoc += 1\n",
    "    if classified:\n",
    "        print(\"**** ALL DATA CLASSIFIED CORRECTLY ****\")\n",
    "        break\n",
    "    print(\"--- ALL DATA NOT CLASSIFIED CORRECTLY. ONE MORE LOOP ---\")"
   ]
  },
  {
   "cell_type": "code",
   "execution_count": 18,
   "metadata": {},
   "outputs": [
    {
     "name": "stdout",
     "output_type": "stream",
     "text": [
      "w: [ 2.14037745  1.2763927 ]\n",
      "b: -9\n"
     ]
    }
   ],
   "source": [
    "# 学習した結果の値\n",
    "print(\"w:\", w)\n",
    "print(\"b:\", b)"
   ]
  },
  {
   "cell_type": "markdown",
   "metadata": {},
   "source": [
    "+ 学習した結果、w1=2.14037745、w2=1.2763927、b=-9が得られた\n",
    "+ モデル式：y = w1*x1 + w2*x2 +b　→ 0 = 2.14037745*x1 + 1.2763927*x2 -9 がニューロンが発火するかどうかの境界線"
   ]
  },
  {
   "cell_type": "code",
   "execution_count": 19,
   "metadata": {},
   "outputs": [
    {
     "data": {
      "text/plain": [
       "[<matplotlib.lines.Line2D at 0x1a3f70ec668>]"
      ]
     },
     "execution_count": 19,
     "metadata": {},
     "output_type": "execute_result"
    },
    {
     "data": {
      "image/png": "[encoded data removed]",
      "text/plain": [
       "<matplotlib.figure.Figure at 0x1a3f6fdd6a0>"
      ]
     },
     "metadata": {},
     "output_type": "display_data"
    }
   ],
   "source": [
    "#もう一度xg0, xg1をプロット\n",
    "plt.plot(xg0[:,0],xg0[:,1],'ro')\n",
    "plt.plot(xg1[:,0],xg1[:,1],'^')\n",
    "plt.xlabel(\"x1\")\n",
    "plt.ylabel(\"x2\")\n",
    "\n",
    "#算出した値で境界線を描画\n",
    "#x1の値域 -2から6まで4点（x1の範囲に合わせる。描画する数は適当でOK）\n",
    "x1 = np.linspace(-2,6,4)\n",
    "x2 = -(2.14037745 / 1.276392) * x1 + (9.0 / 1.276392)\n",
    "plt.plot(x1, x2, \"-\")"
   ]
  },
  {
   "cell_type": "markdown",
   "metadata": {},
   "source": [
    "## 3.4 ロジスティック回帰\n",
    "\n"
   ]
  },
  {
   "cell_type": "code",
   "execution_count": 20,
   "metadata": {
    "collapsed": true
   },
   "outputs": [],
   "source": [
    "%matplotlib inline\n",
    "import numpy as np\n",
    "import tensorflow as tf\n",
    "import matplotlib.pyplot as plt\n",
    "\n",
    "#モデル設定\n",
    "tf.set_random_seed(0)\n",
    "\n",
    "w = tf.Variable(tf.zeros([2,1]))\n",
    "b = tf.Variable(tf.zeros([1]))\n",
    "\n",
    "x = tf.placeholder(tf.float32, shape=[None, 2])\n",
    "t = tf.placeholder(tf.float32, shape=[None, 1])\n",
    "y = tf.nn.sigmoid(tf.matmul(x,w) + b)\n",
    "\n",
    "cross_entropy = - tf.reduce_sum(t * tf.log(y) + (1 - t) * tf.log(1 - y))\n",
    "train_step = tf.train.GradientDescentOptimizer(0.1).minimize(cross_entropy)\n",
    "\n",
    "\n",
    "# 予測値yが0.5以上なら1、0.5未満なら0　<->ｔの値（1/0）と比較する\n",
    "correct_prediction = tf.equal(tf.to_float(tf.greater(y, 0.5)), t)\n"
   ]
  },
  {
   "cell_type": "code",
   "execution_count": 21,
   "metadata": {},
   "outputs": [
    {
     "data": {
      "text/plain": [
       "(-1, 2)"
      ]
     },
     "execution_count": 21,
     "metadata": {},
     "output_type": "execute_result"
    },
    {
     "data": {
      "image/png": "[encoded data removed]",
      "text/plain": [
       "<matplotlib.figure.Figure at 0x1a3f713eb70>"
      ]
     },
     "metadata": {},
     "output_type": "display_data"
    }
   ],
   "source": [
    "# ORゲートのデータ\n",
    "\n",
    "X = np.array([[0,0], [0,1], [1,0], [1,1]])\n",
    "Y = np.array([[0],   [1],   [1],   [1]])\n",
    "\n",
    "# 散布図でプロットしてみる\n",
    "plt.plot(X[:,0], X[:,1], 'o')\n",
    "plt.xlabel(\"x1\")\n",
    "plt.ylabel(\"x2\")\n",
    "plt.xlim(-1, 2)\n",
    "plt.ylim(-1, 2)\n"
   ]
  },
  {
   "cell_type": "code",
   "execution_count": 22,
   "metadata": {},
   "outputs": [
    {
     "name": "stdout",
     "output_type": "stream",
     "text": [
      "w [[ 3.61188436]\n",
      " [ 3.61188436]]\n",
      "b [-1.24509501]\n"
     ]
    }
   ],
   "source": [
    "# 初期化\n",
    "init = tf.global_variables_initializer()\n",
    "sess = tf.Session()\n",
    "sess.run(init)\n",
    "\n",
    "# 学習\n",
    "for epoch in range(200):\n",
    "    sess.run(train_step, feed_dict={\n",
    "        x:X, t:Y\n",
    "    })\n",
    "\n",
    "\n",
    "# 学習結果\n",
    "result_w = sess.run(w)\n",
    "result_b = sess.run(b)\n",
    "print(\"w\", result_w)\n",
    "print(\"b\", result_b)\n"
   ]
  },
  {
   "cell_type": "code",
   "execution_count": 23,
   "metadata": {},
   "outputs": [
    {
     "name": "stdout",
     "output_type": "stream",
     "text": [
      "classified:\n",
      "[[ True]\n",
      " [ True]\n",
      " [ True]\n",
      " [ True]]\n",
      "\n",
      "output probability:\n",
      "[[ 0.22355038]\n",
      " [ 0.91425949]\n",
      " [ 0.91425949]\n",
      " [ 0.99747425]]\n"
     ]
    },
    {
     "data": {
      "text/plain": [
       "[<matplotlib.lines.Line2D at 0x1a3f6fc2a20>]"
      ]
     },
     "execution_count": 23,
     "metadata": {},
     "output_type": "execute_result"
    },
    {
     "data": {
      "image/png": "[encoded data removed]",
      "text/plain": [
       "<matplotlib.figure.Figure at 0x1a3f6f51208>"
      ]
     },
     "metadata": {},
     "output_type": "display_data"
    }
   ],
   "source": [
    "# 学習結果の確認\n",
    "classified = correct_prediction.eval(session=sess, feed_dict={\n",
    "    x:X, t:Y\n",
    "})\n",
    "\n",
    "prob = y.eval(session=sess, feed_dict={\n",
    "    x: X\n",
    "})\n",
    "print(\"classified:\")\n",
    "print(classified)\n",
    "print()\n",
    "print(\"output probability:\")\n",
    "print(prob)\n",
    "\n",
    "\n",
    "# 学習結果の境界線をプロット\n",
    "# w1*x1 + w2*x2 + b = 0\n",
    "# x2 = - w1*x1/w2 -(b/w2)\n",
    "plt.plot(X[:,0], X[:,1], 'o')\n",
    "plt.xlabel(\"x1\")\n",
    "plt.ylabel(\"x2\")\n",
    "plt.xlim(-1, 2)\n",
    "plt.ylim(-1, 2)\n",
    "\n",
    "x1 = np.linspace(-1,2,4)\n",
    "x2 = -(result_w[0] * x1 )/ result_w[1] - (result_b / result_w[1])\n",
    "plt.plot(x1, x2, \"-\")\n"
   ]
  },
  {
   "cell_type": "code",
   "execution_count": 24,
   "metadata": {
    "scrolled": true
   },
   "outputs": [
    {
     "data": {
      "text/plain": [
       "<matplotlib.text.Text at 0x1a3f7b1e4a8>"
      ]
     },
     "execution_count": 24,
     "metadata": {},
     "output_type": "execute_result"
    },
    {
     "data": {
      "image/png": "[encoded data removed]",
      "text/plain": [
       "<matplotlib.figure.Figure at 0x1a3f6f9e9b0>"
      ]
     },
     "metadata": {},
     "output_type": "display_data"
    }
   ],
   "source": [
    "#\n",
    "#単純パーセプトロンと同じデータでやってみる\n",
    "#\n",
    "%matplotlib inline\n",
    "import numpy as np\n",
    "import tensorflow as tf\n",
    "import matplotlib.pyplot as plt\n",
    "from scipy.stats import zscore\n",
    "\n",
    "#単純パーセプトロンと同じデータを使用する\n",
    "d = 2\n",
    "N = 10\n",
    "mean = 5\n",
    "rng = np.random.RandomState(123)\n",
    "xg0 = rng.randn(N, d) + np.array([0, 0])\n",
    "xg1 = rng.randn(N, d) + np.array([mean, mean])\n",
    "plt.plot(xg0[:,0],xg0[:,1],'ro')\n",
    "plt.plot(xg1[:,0],xg1[:,1],'^')\n",
    "plt.xlabel(\"x1\")\n",
    "plt.ylabel(\"x2\")"
   ]
  },
  {
   "cell_type": "code",
   "execution_count": 25,
   "metadata": {
    "collapsed": true
   },
   "outputs": [],
   "source": [
    "'''\n",
    "モデル設定\n",
    "'''\n",
    "tf.set_random_seed(0)  # 乱数シード\n",
    "\n",
    "w = tf.Variable(tf.zeros([2, 1]))\n",
    "b = tf.Variable(tf.zeros([1]))\n",
    "\n",
    "x = tf.placeholder(tf.float32, shape=[None, 2])\n",
    "t = tf.placeholder(tf.float32, shape=[None, 1])\n",
    "y = tf.nn.sigmoid(tf.matmul(x, w) + b)\n",
    "\n",
    "cross_entropy = - tf.reduce_sum(t * tf.log(y) + (1 - t) * tf.log(1 - y))\n",
    "train_step = tf.train.GradientDescentOptimizer(0.1).minimize(cross_entropy)\n",
    "\n",
    "correct_prediction = tf.equal(tf.to_float(tf.greater(y, 0.5)), t)\n",
    "\n"
   ]
  },
  {
   "cell_type": "code",
   "execution_count": 26,
   "metadata": {},
   "outputs": [
    {
     "name": "stdout",
     "output_type": "stream",
     "text": [
      "(20, 2)\n",
      "(20, 1)\n"
     ]
    },
    {
     "data": {
      "text/plain": [
       "[<matplotlib.lines.Line2D at 0x1a3f8c83048>]"
      ]
     },
     "execution_count": 26,
     "metadata": {},
     "output_type": "execute_result"
    },
    {
     "data": {
      "image/png": "[encoded data removed]",
      "text/plain": [
       "<matplotlib.figure.Figure at 0x1a3f8b4b160>"
      ]
     },
     "metadata": {},
     "output_type": "display_data"
    }
   ],
   "source": [
    "#データセット\n",
    "# xのshape=[None, 2]に合わせる\n",
    "X = np.concatenate((xg0, xg1), axis = 0)\n",
    "print(X.shape)\n",
    "# tのshape=[None, 1]に合わせる\n",
    "yg0 = np.zeros((N,1))\n",
    "yg1 = np.ones((N,1))\n",
    "#print(yg0)\n",
    "#print(yg1)\n",
    "Y = np.concatenate((yg0, yg1), axis = 0)\n",
    "print(Y.shape)\n",
    "\n",
    "# 一旦Xの元データを表示\n",
    "#print(X)\n",
    "# Xを標準化する\n",
    "ZX = zscore(X)\n",
    "#print(ZX)\n",
    "\n",
    "plt.plot(ZX[:,0],ZX[:,1],\"o\")"
   ]
  },
  {
   "cell_type": "code",
   "execution_count": 27,
   "metadata": {},
   "outputs": [
    {
     "name": "stdout",
     "output_type": "stream",
     "text": [
      "**** train finish ****\n",
      "w: [[ 2.48212171]\n",
      " [ 2.31618047]]\n",
      "b: [-0.19245674]\n"
     ]
    }
   ],
   "source": [
    "# 初期化\n",
    "init = tf.global_variables_initializer()\n",
    "sess = tf.Session()\n",
    "sess.run(init)\n",
    "\n",
    "\n",
    "# 学習\n",
    "for epoch in range(20):\n",
    "    sess.run(train_step, feed_dict={\n",
    "        x: ZX,\n",
    "        t: Y\n",
    "    })\n",
    "    #print(\"epoc:\" ,epoch)\n",
    "    #print(\"   w:\" ,sess.run(w))\n",
    "    #print(\"   b:\" ,sess.run(b))\n",
    "\n",
    "\n",
    "print(\"**** train finish ****\")\n",
    "print(\"w:\" ,sess.run(w))\n",
    "print(\"b:\" ,sess.run(b))\n"
   ]
  },
  {
   "cell_type": "code",
   "execution_count": 28,
   "metadata": {},
   "outputs": [
    {
     "name": "stdout",
     "output_type": "stream",
     "text": [
      "[ 2.48212171]\n",
      "[ 2.31618047]\n",
      "[-0.19245674]\n"
     ]
    },
    {
     "data": {
      "text/plain": [
       "[<matplotlib.lines.Line2D at 0x1a3f703e6d8>]"
      ]
     },
     "execution_count": 28,
     "metadata": {},
     "output_type": "execute_result"
    },
    {
     "data": {
      "image/png": "[encoded data removed]",
      "text/plain": [
       "<matplotlib.figure.Figure at 0x1a3f8b50b70>"
      ]
     },
     "metadata": {},
     "output_type": "display_data"
    }
   ],
   "source": [
    "# 学習結果を境界線ひいてみる\n",
    "result_w1 = sess.run(w)[0]\n",
    "result_w2 = sess.run(w)[1]\n",
    "result_b = sess.run(b)\n",
    "\n",
    "print(result_w1)\n",
    "print(result_w2)\n",
    "print(result_b)\n",
    "\n",
    "plt.plot(ZX[:,0],ZX[:,1],\"o\")\n",
    "# 0 = w1 x1 + w2 x2 + b\n",
    "x1 = np.linspace(-2,2,2)\n",
    "x2 = -(result_w1 * x1 )/ result_w2 - (result_b / result_w2)\n",
    "plt.plot(x1, x2, \"-\")"
   ]
  },
  {
   "cell_type": "code",
   "execution_count": 29,
   "metadata": {},
   "outputs": [
    {
     "name": "stdout",
     "output_type": "stream",
     "text": [
      "classified:\n",
      "[[ True]\n",
      " [ True]\n",
      " [ True]\n",
      " [ True]\n",
      " [ True]\n",
      " [ True]\n",
      " [ True]\n",
      " [ True]\n",
      " [ True]\n",
      " [ True]\n",
      " [ True]\n",
      " [ True]\n",
      " [ True]\n",
      " [ True]\n",
      " [ True]\n",
      " [ True]\n",
      " [ True]\n",
      " [ True]\n",
      " [ True]\n",
      " [ True]]\n",
      "\n",
      "output probability:\n",
      "[[  7.80767668e-03]\n",
      " [  3.06516327e-03]\n",
      " [  2.26042103e-02]\n",
      " [  5.97441278e-04]\n",
      " [  1.39070284e-02]\n",
      " [  4.32978105e-03]\n",
      " [  2.10658703e-02]\n",
      " [  3.99792287e-03]\n",
      " [  3.53722662e-01]\n",
      " [  3.28084454e-02]\n",
      " [  9.98744369e-01]\n",
      " [  9.91704583e-01]\n",
      " [  9.44907784e-01]\n",
      " [  9.85366940e-01]\n",
      " [  9.76167917e-01]\n",
      " [  8.64690602e-01]\n",
      " [  9.07844663e-01]\n",
      " [  9.95326042e-01]\n",
      " [  9.94768977e-01]\n",
      " [  9.82594192e-01]]\n"
     ]
    }
   ],
   "source": [
    "'''\n",
    "学習結果の確認\n",
    "'''\n",
    "classified = correct_prediction.eval(session=sess, feed_dict={\n",
    "    x: ZX,\n",
    "    t: Y\n",
    "})\n",
    "prob = y.eval(session=sess, feed_dict={\n",
    "    x: ZX\n",
    "})\n",
    "\n",
    "print('classified:')\n",
    "print(classified)\n",
    "print()\n",
    "print('output probability:')\n",
    "print(prob)"
   ]
  }
 ],
 "metadata": {
  "kernelspec": {
   "display_name": "Python 3",
   "language": "python",
   "name": "python3"
  },
  "language_info": {
   "codemirror_mode": {
    "name": "ipython",
    "version": 3
   },
   "file_extension": ".py",
   "mimetype": "text/x-python",
   "name": "python",
   "nbconvert_exporter": "python",
   "pygments_lexer": "ipython3",
   "version": "3.5.3"
  }
 },
 "nbformat": 4,
 "nbformat_minor": 2
}
