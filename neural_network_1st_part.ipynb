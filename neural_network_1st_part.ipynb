{
 "cells": [
  {
   "cell_type": "markdown",
   "metadata": {},
   "source": [
    "[詳解 ディープラーニング ~TensorFlow・Kerasによる時系列データ処理~](https://www.amazon.co.jp/dp/4839962510) に沿って動かしてみます\n",
    "\n",
    "# 3章　ニューラルネットワーク\n"
   ]
  },
  {
   "cell_type": "markdown",
   "metadata": {},
   "source": [
    "## 3.3 単純パーセプトロン\n",
    "\n",
    "+ 82ページ 3.3.2実装～のコード（をベースにしたもの）\n",
    "+ P83のコードでx1, x2という変数が出てくるが、P82(式3.15)のX=(x1,x2,,,)と混同するので、xg0,xg1と置き換える\n",
    "+ モデル式：y = w1\\*x1 + w2\\*x2 +b"
   ]
  },
  {
   "cell_type": "code",
   "execution_count": null,
   "metadata": {},
   "outputs": [],
   "source": [
    "%matplotlib inline\n",
    "import numpy as np\n",
    "import matplotlib.pyplot as plt\n",
    "\n",
    "#データの次元\n",
    "d = 2\n",
    "#各パターンのデータ数\n",
    "N = 10\n",
    "# ニューロンが発火するデータの平均値\n",
    "mean = 5\n",
    "\n",
    "# 乱数の結果を一定にするため、状態を定める（毎回同じ結果になる）\n",
    "rng = np.random.RandomState(123)\n",
    "\n",
    "# ２つのグループを乱数で生成する\n",
    "# xg0:発火しないデータ＝平均０（0,0付近）\n",
    "xg0 = rng.randn(N, d) + np.array([0, 0])\n",
    "# xg1:発火するデータ＝平均５（meanで指定した数値） （mean,mean付近）\n",
    "xg1 = rng.randn(N, d) + np.array([mean, mean])\n",
    "print(xg0)\n",
    "print(xg1)"
   ]
  },
  {
   "cell_type": "code",
   "execution_count": null,
   "metadata": {},
   "outputs": [],
   "source": [
    "# xg0, xg1をプロットしてみる\n",
    "plt.plot(xg0[:,0],xg0[:,1],'ro')\n",
    "plt.plot(xg1[:,0],xg1[:,1],'^')\n",
    "plt.xlabel(\"x1\")\n",
    "plt.ylabel(\"x2\")"
   ]
  },
  {
   "cell_type": "code",
   "execution_count": null,
   "metadata": {},
   "outputs": [],
   "source": [
    "# xg0とxg1を連結して１つのデータにする\n",
    "x = np.concatenate((xg0, xg1), axis = 0)\n",
    "print(x)"
   ]
  },
  {
   "cell_type": "code",
   "execution_count": null,
   "metadata": {},
   "outputs": [],
   "source": [
    "#モデル定義\n",
    "w = np.zeros(d)\n",
    "b = 0\n",
    "\n",
    "def y(x):\n",
    "    return step(np.dot(w, x) + b)\n",
    "\n",
    "def step(x):\n",
    "    return 1 * (x > 0)\n",
    "\n",
    "# 正しい出力値を返す関数\n",
    "def t(i):\n",
    "    if i < N:\n",
    "        return 0\n",
    "    else:\n",
    "        return 1\n",
    "\n",
    "# 学習前の初期値\n",
    "print(\"w:\", w)\n",
    "print(\"b:\", b)"
   ]
  },
  {
   "cell_type": "code",
   "execution_count": null,
   "metadata": {},
   "outputs": [],
   "source": [
    "# 学習実施\n",
    "epoc = 1\n",
    "while True:\n",
    "    classified = True\n",
    "    #for i in range(N * 2):\n",
    "    for i in range(len(x)):\n",
    "        print(\"epoc:%03d\" % (epoc))\n",
    "        print(\" data:%02d, x:%s, w:%s, b:%d, y:%d, t:%d\" % (i, str(x[i]), str(w), b, y(x[i]), t(i)))\n",
    "        delta_w = (t(i) - y(x[i])) * x[i]\n",
    "        delta_b = (t(i) - y(x[i]))\n",
    "        w += delta_w\n",
    "        b += delta_b\n",
    "        classified *= all(delta_w == 0) * (delta_b == 0)\n",
    "        print(\"           delta_w:%s, delta_b:%d, classified:%d\" % (str(delta_w), delta_b, classified))\n",
    "        epoc += 1\n",
    "    if classified:\n",
    "        print(\"**** ALL DATA CLASSIFIED CORRECTLY ****\")\n",
    "        break\n",
    "    print(\"--- ALL DATA NOT CLASSIFIED CORRECTLY. ONE MORE LOOP ---\")"
   ]
  },
  {
   "cell_type": "code",
   "execution_count": null,
   "metadata": {},
   "outputs": [],
   "source": [
    "# 学習した結果の値\n",
    "print(\"w:\", w)\n",
    "print(\"b:\", b)"
   ]
  },
  {
   "cell_type": "markdown",
   "metadata": {},
   "source": [
    "+ 学習した結果、w1=2.14037745、w2=1.2763927、b=-9が得られた\n",
    "+ モデル式：y = w1*x1 + w2*x2 +b　→ 0 = 2.14037745*x1 + 1.2763927*x2 -9 がニューロンが発火するかどうかの境界線"
   ]
  },
  {
   "cell_type": "code",
   "execution_count": null,
   "metadata": {},
   "outputs": [],
   "source": [
    "#もう一度xg0, xg1をプロット\n",
    "plt.plot(xg0[:,0],xg0[:,1],'ro')\n",
    "plt.plot(xg1[:,0],xg1[:,1],'^')\n",
    "plt.xlabel(\"x1\")\n",
    "plt.ylabel(\"x2\")\n",
    "\n",
    "#算出した値で境界線を描画\n",
    "#x1の値域 -2から6まで4点（x1の範囲に合わせる。描画する数は適当でOK）\n",
    "x1 = np.linspace(-2,6,4)\n",
    "x2 = -(2.14037745 / 1.276392) * x1 + (9.0 / 1.276392)\n",
    "plt.plot(x1, x2, \"-\")"
   ]
  },
  {
   "cell_type": "markdown",
   "metadata": {},
   "source": [
    "## 3.4 ロジスティック回帰\n",
    "\n",
    "※8/12作業中"
   ]
  },
  {
   "cell_type": "code",
   "execution_count": 1,
   "metadata": {
    "scrolled": true
   },
   "outputs": [
    {
     "data": {
      "text/plain": [
       "<matplotlib.text.Text at 0x14b83506fd0>"
      ]
     },
     "execution_count": 1,
     "metadata": {},
     "output_type": "execute_result"
    },
    {
     "data": {
      "image/png": "[encoded data removed]",
      "text/plain": [
       "<matplotlib.figure.Figure at 0x14bff9ee5c0>"
      ]
     },
     "metadata": {},
     "output_type": "display_data"
    }
   ],
   "source": [
    "%matplotlib inline\n",
    "import numpy as np\n",
    "import tensorflow as tf\n",
    "import matplotlib.pyplot as plt\n",
    "\n",
    "#単純パーセプトロンと同じデータを使用する\n",
    "d = 2\n",
    "N = 10\n",
    "mean = 5\n",
    "rng = np.random.RandomState(123)\n",
    "xg0 = rng.randn(N, d) + np.array([0, 0])\n",
    "xg1 = rng.randn(N, d) + np.array([mean, mean])\n",
    "plt.plot(xg0[:,0],xg0[:,1],'ro')\n",
    "plt.plot(xg1[:,0],xg1[:,1],'^')\n",
    "plt.xlabel(\"x1\")\n",
    "plt.ylabel(\"x2\")"
   ]
  },
  {
   "cell_type": "code",
   "execution_count": 2,
   "metadata": {
    "collapsed": true
   },
   "outputs": [],
   "source": [
    "'''\n",
    "モデル設定\n",
    "'''\n",
    "tf.set_random_seed(0)  # 乱数シード\n",
    "\n",
    "w = tf.Variable(tf.zeros([2, 1]))\n",
    "b = tf.Variable(tf.zeros([1]))\n",
    "\n",
    "x = tf.placeholder(tf.float32, shape=[None, 2])\n",
    "t = tf.placeholder(tf.float32, shape=[None, 1])\n",
    "y = tf.nn.sigmoid(tf.matmul(x, w) + b)\n",
    "\n",
    "cross_entropy = - tf.reduce_sum(t * tf.log(y) + (1 - t) * tf.log(1 - y))\n",
    "train_step = tf.train.GradientDescentOptimizer(0.1).minimize(cross_entropy)\n",
    "\n",
    "correct_prediction = tf.equal(tf.to_float(tf.greater(y, 0.5)), t)\n",
    "\n"
   ]
  },
  {
   "cell_type": "code",
   "execution_count": 3,
   "metadata": {},
   "outputs": [
    {
     "name": "stdout",
     "output_type": "stream",
     "text": [
      "(20, 2)\n",
      "[[ 0.]\n",
      " [ 0.]\n",
      " [ 0.]\n",
      " [ 0.]\n",
      " [ 0.]\n",
      " [ 0.]\n",
      " [ 0.]\n",
      " [ 0.]\n",
      " [ 0.]\n",
      " [ 0.]]\n",
      "[[ 1.]\n",
      " [ 1.]\n",
      " [ 1.]\n",
      " [ 1.]\n",
      " [ 1.]\n",
      " [ 1.]\n",
      " [ 1.]\n",
      " [ 1.]\n",
      " [ 1.]\n",
      " [ 1.]]\n",
      "(20, 1)\n"
     ]
    }
   ],
   "source": [
    "#データセット\n",
    "# xのshape=[None, 2]に合わせる\n",
    "X = np.concatenate((xg0, xg1), axis = 0)\n",
    "print(X.shape)\n",
    "# tのshape=[None, 1]に合わせる\n",
    "yg0 = np.zeros((N,1))\n",
    "yg1 = np.ones((N,1))\n",
    "print(yg0)\n",
    "print(yg1)\n",
    "Y = np.concatenate((yg0, yg1), axis = 0)\n",
    "print(Y.shape)"
   ]
  },
  {
   "cell_type": "code",
   "execution_count": 6,
   "metadata": {},
   "outputs": [
    {
     "name": "stdout",
     "output_type": "stream",
     "text": [
      "epoc: 0\n",
      "   w: [[ 2.31509018]\n",
      " [ 2.28931379]]\n",
      "   b: [ 0.]\n",
      "epoc: 1\n",
      "   w: [[ nan]\n",
      " [ nan]]\n",
      "   b: [ nan]\n",
      "epoc: 2\n",
      "   w: [[ nan]\n",
      " [ nan]]\n",
      "   b: [ nan]\n",
      "epoc: 3\n",
      "   w: [[ nan]\n",
      " [ nan]]\n",
      "   b: [ nan]\n",
      "epoc: 4\n",
      "   w: [[ nan]\n",
      " [ nan]]\n",
      "   b: [ nan]\n",
      "epoc: 5\n",
      "   w: [[ nan]\n",
      " [ nan]]\n",
      "   b: [ nan]\n",
      "epoc: 6\n",
      "   w: [[ nan]\n",
      " [ nan]]\n",
      "   b: [ nan]\n",
      "epoc: 7\n",
      "   w: [[ nan]\n",
      " [ nan]]\n",
      "   b: [ nan]\n",
      "epoc: 8\n",
      "   w: [[ nan]\n",
      " [ nan]]\n",
      "   b: [ nan]\n",
      "epoc: 9\n",
      "   w: [[ nan]\n",
      " [ nan]]\n",
      "   b: [ nan]\n",
      "epoc: 10\n",
      "   w: [[ nan]\n",
      " [ nan]]\n",
      "   b: [ nan]\n",
      "epoc: 11\n",
      "   w: [[ nan]\n",
      " [ nan]]\n",
      "   b: [ nan]\n",
      "epoc: 12\n",
      "   w: [[ nan]\n",
      " [ nan]]\n",
      "   b: [ nan]\n",
      "epoc: 13\n",
      "   w: [[ nan]\n",
      " [ nan]]\n",
      "   b: [ nan]\n",
      "epoc: 14\n",
      "   w: [[ nan]\n",
      " [ nan]]\n",
      "   b: [ nan]\n",
      "epoc: 15\n",
      "   w: [[ nan]\n",
      " [ nan]]\n",
      "   b: [ nan]\n",
      "epoc: 16\n",
      "   w: [[ nan]\n",
      " [ nan]]\n",
      "   b: [ nan]\n",
      "epoc: 17\n",
      "   w: [[ nan]\n",
      " [ nan]]\n",
      "   b: [ nan]\n",
      "epoc: 18\n",
      "   w: [[ nan]\n",
      " [ nan]]\n",
      "   b: [ nan]\n",
      "epoc: 19\n",
      "   w: [[ nan]\n",
      " [ nan]]\n",
      "   b: [ nan]\n"
     ]
    }
   ],
   "source": [
    "# 初期化\n",
    "init = tf.global_variables_initializer()\n",
    "sess = tf.Session()\n",
    "sess.run(init)\n",
    "\n",
    "\n",
    "# 学習\n",
    "for epoch in range(20):\n",
    "    sess.run(train_step, feed_dict={\n",
    "        x: X,\n",
    "        t: Y\n",
    "    })\n",
    "    print(\"epoc:\" ,epoch)\n",
    "    print(\"   w:\" ,sess.run(w))\n",
    "    print(\"   b:\" ,sess.run(b))\n",
    "\n"
   ]
  },
  {
   "cell_type": "code",
   "execution_count": null,
   "metadata": {},
   "outputs": [],
   "source": [
    "'''\n",
    "学習結果の確認\n",
    "'''\n",
    "classified = correct_prediction.eval(session=sess, feed_dict={\n",
    "    x: X,\n",
    "    t: Y\n",
    "})\n",
    "prob = y.eval(session=sess, feed_dict={\n",
    "    x: X\n",
    "})\n",
    "\n",
    "print('classified:')\n",
    "print(classified)\n",
    "print()\n",
    "print('output probability:')\n",
    "print(prob)"
   ]
  },
  {
   "cell_type": "code",
   "execution_count": null,
   "metadata": {},
   "outputs": [],
   "source": [
    "import numpy as np\n",
    "import tensorflow as tf\n",
    "\n",
    "'''\n",
    "モデル設定\n",
    "'''\n",
    "tf.set_random_seed(0)  # 乱数シード\n",
    "\n",
    "w = tf.Variable(tf.zeros([2, 1]))\n",
    "b = tf.Variable(tf.zeros([1]))\n",
    "\n",
    "x = tf.placeholder(tf.float32, shape=[None, 2])\n",
    "t = tf.placeholder(tf.float32, shape=[None, 1])\n",
    "y = tf.nn.sigmoid(tf.matmul(x, w) + b)\n",
    "\n",
    "cross_entropy = - tf.reduce_sum(t * tf.log(y) + (1 - t) * tf.log(1 - y))\n",
    "train_step = tf.train.GradientDescentOptimizer(0.1).minimize(cross_entropy)\n",
    "\n",
    "correct_prediction = tf.equal(tf.to_float(tf.greater(y, 0.5)), t)\n",
    "\n",
    "'''\n",
    "モデル学習\n",
    "'''\n",
    "# ORゲート\n",
    "X = np.array([[0, 0], [0, 1], [1, 0], [1, 1]])\n",
    "#Y = np.array([[0], [1], [1], [1]])\n",
    "Y = np.array([0, 1, 1, 1])\n",
    "Y = Y.reshape(4,1)\n",
    "\n",
    "\n",
    "# 初期化\n",
    "init = tf.global_variables_initializer()\n",
    "sess = tf.Session()\n",
    "sess.run(init)\n",
    "\n",
    "# 学習\n",
    "for epoch in range(200):\n",
    "    sess.run(train_step, feed_dict={\n",
    "        x: X,\n",
    "        t: Y\n",
    "    })\n",
    "\n",
    "'''\n",
    "学習結果の確認\n",
    "'''\n",
    "classified = correct_prediction.eval(session=sess, feed_dict={\n",
    "    x: X,\n",
    "    t: Y\n",
    "})\n",
    "prob = y.eval(session=sess, feed_dict={\n",
    "    x: X\n",
    "})\n",
    "\n",
    "print('classified:')\n",
    "print(classified)\n",
    "print()\n",
    "print('output probability:')\n",
    "print(prob)"
   ]
  },
  {
   "cell_type": "code",
   "execution_count": null,
   "metadata": {
    "collapsed": true
   },
   "outputs": [],
   "source": []
  },
  {
   "cell_type": "code",
   "execution_count": null,
   "metadata": {
    "collapsed": true
   },
   "outputs": [],
   "source": []
  }
 ],
 "metadata": {
  "kernelspec": {
   "display_name": "Python 3",
   "language": "python",
   "name": "python3"
  },
  "language_info": {
   "codemirror_mode": {
    "name": "ipython",
    "version": 3
   },
   "file_extension": ".py",
   "mimetype": "text/x-python",
   "name": "python",
   "nbconvert_exporter": "python",
   "pygments_lexer": "ipython3",
   "version": "3.5.3"
  }
 },
 "nbformat": 4,
 "nbformat_minor": 2
}
